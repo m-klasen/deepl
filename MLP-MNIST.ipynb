{
 "cells": [
  {
   "cell_type": "code",
   "execution_count": 1,
   "metadata": {},
   "outputs": [
    {
     "name": "stdout",
     "output_type": "stream",
     "text": [
      "Installing packages:\n",
      "\t.package(path: \"/home/mlk/swift/swiftai\")\n",
      "\t\tSwiftAI\n",
      "With SwiftPM flags: []\n",
      "Working in: /tmp/tmprlcxrsq2/swift-install\n",
      "warning: /home/mlk/swift/usr/bin/swiftc: /home/mlk/anaconda3/envs/fai/lib/libuuid.so.1: no version information available (required by /home/mlk/swift/usr/bin/swiftc)\n",
      "/home/mlk/swift/usr/bin/swift: /home/mlk/anaconda3/envs/fai/lib/libuuid.so.1: no version information available (required by /home/mlk/swift/usr/bin/swift)\n",
      "warning: /home/mlk/swift/usr/bin/swiftc: /home/mlk/anaconda3/envs/fai/lib/libuuid.so.1: no version information available (required by /home/mlk/swift/usr/bin/swiftc)\n",
      "/home/mlk/swift/usr/bin/swift: /home/mlk/anaconda3/envs/fai/lib/libuuid.so.1: no version information available (required by /home/mlk/swift/usr/bin/swift)\n",
      "warning: /home/mlk/swift/usr/bin/swiftc: /home/mlk/anaconda3/envs/fai/lib/libuuid.so.1: no version information available (required by /home/mlk/swift/usr/bin/swiftc)\n",
      "/home/mlk/swift/usr/bin/swift: /home/mlk/anaconda3/envs/fai/lib/libuuid.so.1: no version information available (required by /home/mlk/swift/usr/bin/swift)\n",
      "warning: /home/mlk/swift/usr/bin/swiftc: /home/mlk/anaconda3/envs/fai/lib/libuuid.so.1: no version information available (required by /home/mlk/swift/usr/bin/swiftc)\n",
      "/home/mlk/swift/usr/bin/swift: /home/mlk/anaconda3/envs/fai/lib/libuuid.so.1: no version information available (required by /home/mlk/swift/usr/bin/swift)\n",
      "/home/mlk/swift/usr/bin/swiftc: /home/mlk/anaconda3/envs/fai/lib/libuuid.so.1: no version information available (required by /home/mlk/swift/usr/bin/swiftc)\n",
      "/home/mlk/swift/usr/bin/swiftc: /home/mlk/anaconda3/envs/fai/lib/libuuid.so.1: no version information available (required by /home/mlk/swift/usr/bin/swiftc)[1/2] Compiling jupyterInstalledPackages jupyterInstalledPackages.swift\n",
      "/home/mlk/swift/usr/bin/swift: /home/mlk/anaconda3/envs/fai/lib/libuuid.so.1: no version information available (required by /home/mlk/swift/usr/bin/swift)\n",
      "[2/3] Merging module jupyterInstalledPackages\n",
      "/home/mlk/swift/usr/bin/swift: /home/mlk/anaconda3/envs/fai/lib/libuuid.so.1: no version information available (required by /home/mlk/swift/usr/bin/swift)\n",
      "Initializing Swift...\n",
      "Installation complete!\n"
     ]
    }
   ],
   "source": [
    "%install-location $cwd/swift-install\n",
    "%install '.package(path: \"$cwd/swiftai\")' SwiftAI"
   ]
  },
  {
   "cell_type": "code",
   "execution_count": 2,
   "metadata": {},
   "outputs": [],
   "source": [
    "import SwiftAI\n",
    "import TensorFlow\n",
    "import Python\n",
    "%include \"EnableIPythonDisplay.swift\"\n",
    "IPythonDisplay.shell.enable_matplotlib(\"inline\")\n",
    "let plt = Python.import(\"matplotlib.pyplot\")\n",
    "let np = Python.import(\"numpy\")"
   ]
  },
  {
   "cell_type": "code",
   "execution_count": 3,
   "metadata": {},
   "outputs": [],
   "source": [
    "import Foundation\n",
    "import Just\n",
    "import Path"
   ]
  },
  {
   "cell_type": "code",
   "execution_count": 4,
   "metadata": {},
   "outputs": [
    {
     "name": "stdout",
     "output_type": "stream",
     "text": [
      "2019-11-25 11:46:18.758873: W tensorflow/core/framework/cpu_allocator_impl.cc:81] Allocation of 188160000 exceeds 10% of system memory.\n",
      "2019-11-25 11:46:18.859044: I tensorflow/core/platform/cpu_feature_guard.cc:142] Your CPU supports instructions that this TensorFlow binary was not compiled to use: SSE4.1 SSE4.2 AVX\n",
      "2019-11-25 11:46:18.921437: I tensorflow/stream_executor/platform/default/dso_loader.cc:44] Successfully opened dynamic library libcuda.so.1\n",
      "2019-11-25 11:46:18.926747: I tensorflow/stream_executor/cuda/cuda_gpu_executor.cc:983] successful NUMA node read from SysFS had negative value (-1), but there must be at least one NUMA node, so returning NUMA node zero\n",
      "2019-11-25 11:46:18.927068: I tensorflow/core/common_runtime/gpu/gpu_device.cc:1618] Found device 0 with properties: \n",
      "name: GeForce GTX 970 major: 5 minor: 2 memoryClockRate(GHz): 1.253\n",
      "pciBusID: 0000:01:00.0\n",
      "2019-11-25 11:46:18.960570: I tensorflow/stream_executor/platform/default/dso_loader.cc:44] Successfully opened dynamic library libcudart.so.10.0\n",
      "2019-11-25 11:46:19.613709: I tensorflow/stream_executor/platform/default/dso_loader.cc:44] Successfully opened dynamic library libcublas.so.10.0\n",
      "2019-11-25 11:46:20.757794: I tensorflow/stream_executor/platform/default/dso_loader.cc:44] Successfully opened dynamic library libcufft.so.10.0\n",
      "2019-11-25 11:46:21.422497: I tensorflow/stream_executor/platform/default/dso_loader.cc:44] Successfully opened dynamic library libcurand.so.10.0\n",
      "2019-11-25 11:46:23.062643: I tensorflow/stream_executor/platform/default/dso_loader.cc:44] Successfully opened dynamic library libcusolver.so.10.0\n",
      "2019-11-25 11:46:23.710208: I tensorflow/stream_executor/platform/default/dso_loader.cc:44] Successfully opened dynamic library libcusparse.so.10.0\n",
      "2019-11-25 11:46:27.358543: I tensorflow/stream_executor/platform/default/dso_loader.cc:44] Successfully opened dynamic library libcudnn.so.7\n",
      "2019-11-25 11:46:27.358745: I tensorflow/stream_executor/cuda/cuda_gpu_executor.cc:983] successful NUMA node read from SysFS had negative value (-1), but there must be at least one NUMA node, so returning NUMA node zero\n",
      "2019-11-25 11:46:27.359156: I tensorflow/stream_executor/cuda/cuda_gpu_executor.cc:983] successful NUMA node read from SysFS had negative value (-1), but there must be at least one NUMA node, so returning NUMA node zero\n",
      "2019-11-25 11:46:27.359457: I tensorflow/core/common_runtime/gpu/gpu_device.cc:1746] Adding visible gpu devices: 0\n",
      "2019-11-25 11:46:30.701542: I tensorflow/core/common_runtime/gpu/gpu_device.cc:1159] Device interconnect StreamExecutor with strength 1 edge matrix:\n",
      "2019-11-25 11:46:30.701665: I tensorflow/core/common_runtime/gpu/gpu_device.cc:1165]      0 \n",
      "2019-11-25 11:46:30.701677: I tensorflow/core/common_runtime/gpu/gpu_device.cc:1178] 0:   N \n",
      "2019-11-25 11:46:30.701949: I tensorflow/stream_executor/cuda/cuda_gpu_executor.cc:983] successful NUMA node read from SysFS had negative value (-1), but there must be at least one NUMA node, so returning NUMA node zero\n",
      "2019-11-25 11:46:30.702448: I tensorflow/stream_executor/cuda/cuda_gpu_executor.cc:983] successful NUMA node read from SysFS had negative value (-1), but there must be at least one NUMA node, so returning NUMA node zero\n",
      "2019-11-25 11:46:30.702823: I tensorflow/stream_executor/cuda/cuda_gpu_executor.cc:983] successful NUMA node read from SysFS had negative value (-1), but there must be at least one NUMA node, so returning NUMA node zero\n",
      "2019-11-25 11:46:30.707113: I tensorflow/core/common_runtime/gpu/gpu_device.cc:1304] Created TensorFlow device (/job:localhost/replica:0/task:0/device:GPU:0 with 2659 MB memory) -> physical GPU (device: 0, name: GeForce GTX 970, pci bus id: 0000:01:00.0, compute capability: 5.2)\n",
      "2019-11-25 11:46:30.749167: I tensorflow/core/platform/profile_utils/cpu_utils.cc:94] CPU Frequency: 3092880000 Hz\n",
      "2019-11-25 11:46:30.750060: I tensorflow/compiler/xla/service/service.cc:168] XLA service 0x2e8a6f0 initialized for platform Host (this does not guarantee that XLA will be used). Devices:\n",
      "2019-11-25 11:46:30.750087: I tensorflow/compiler/xla/service/service.cc:176]   StreamExecutor device (0): Host, Default Version\n",
      "2019-11-25 11:46:30.752489: I tensorflow/compiler/xla/service/service.cc:168] XLA service 0x1306f480 initialized for platform CUDA (this does not guarantee that XLA will be used). Devices:\n",
      "2019-11-25 11:46:30.752611: I tensorflow/compiler/xla/service/service.cc:176]   StreamExecutor device (0): GeForce GTX 970, Compute Capability 5.2\n",
      "2019-11-25 11:46:31.700525: W tensorflow/core/framework/cpu_allocator_impl.cc:81] Allocation of 31360000 exceeds 10% of system memory.\n",
      "2019-11-25 11:46:31.727930: W tensorflow/core/framework/cpu_allocator_impl.cc:81] Allocation of 188160000 exceeds 10% of system memory.\n",
      "2019-11-25 11:46:31.832157: W tensorflow/core/framework/cpu_allocator_impl.cc:81] Allocation of 31360000 exceeds 10% of system memory.\n"
     ]
    }
   ],
   "source": [
    "let d = mnistDataBunch(path: Path.home/\"swift\", flat: true, bs: 256)"
   ]
  },
  {
   "cell_type": "code",
   "execution_count": 5,
   "metadata": {},
   "outputs": [
    {
     "data": {
      "text/plain": [
       "▿ [256, 784]\n",
       "  ▿ dimensions : 2 elements\n",
       "    - 0 : 256\n",
       "    - 1 : 784\n"
      ]
     },
     "execution_count": 5,
     "metadata": {},
     "output_type": "execute_result"
    }
   ],
   "source": [
    "d.train.ds.first(where: { _ in true })!.xb.shape"
   ]
  },
  {
   "cell_type": "code",
   "execution_count": 6,
   "metadata": {},
   "outputs": [],
   "source": [
    "//MLP model with 2 hidden layers\n",
    "public struct MyModel: Layer {\n",
    "    public var hidden1: FADense<Float>\n",
    "    public var hidden2: FADense<Float>\n",
    "    public var out:     FADense<Float>\n",
    "    \n",
    "    public init(nIn: Int, nHid: Int, nOut: Int){\n",
    "        hidden1 = FADense(nIn, nHid, activation: relu)\n",
    "        hidden2 = FADense(nHid, nHid, activation: relu)\n",
    "        out =     FADense(nHid, nOut)\n",
    "    }\n",
    "    \n",
    "    @differentiable\n",
    "    public func callAsFunction(_ input: TF) -> TF {\n",
    "        return out(hidden2(hidden1(input)))\n",
    "    }\n",
    "}\n"
   ]
  },
  {
   "cell_type": "code",
   "execution_count": 7,
   "metadata": {},
   "outputs": [],
   "source": [
    "func modelInit() -> MyModel { return MyModel(nIn: 784,nHid: 512, nOut: 10) }"
   ]
  },
  {
   "cell_type": "code",
   "execution_count": 8,
   "metadata": {},
   "outputs": [],
   "source": [
    "// Source: http://cs231n.github.io/neural-networks-3/#sgd\n",
    "\n",
    "public extension StateKeys {\n",
    "    static let prevGrad = \"previousAverageGrad\"\n",
    "}\n",
    "\n",
    "public struct PreviousAverageGrad: StatDelegate {\n",
    "    public var defaultHPs: [String:Float] { return [:] }\n",
    "    public var name: String { return StateKeys.prevGrad }\n",
    "    public func update(_ state: inout [String: TF], p: TF, 𝛁p: TF, hps: inout [String:Float]) {\n",
    "        state[StateKeys.prevGrad]! = state[StateKeys.avgGrad]!\n",
    "    }\n",
    "}\n",
    "\n",
    "public struct AvgGrad: StatDelegate {\n",
    "    public var defaultHPs: [String: Float] { return [HyperParams.mom: 0.9] }\n",
    "    public let dampened: Bool\n",
    "    public init(dampened: Bool = false) { self.dampened = dampened }\n",
    "    public var name: String { return StateKeys.avgGrad }\n",
    "    public func update(_ state: inout [String: TF], p: TF, 𝛁p: TF, hps: inout [String:Float]) {\n",
    "        state[StateKeys.avgGrad]! *= hps[HyperParams.mom]!\n",
    "        hps[HyperParams.momDamp] = 1.0 - (dampened ? hps[HyperParams.mom]! : 0.0)\n",
    "        state[StateKeys.avgGrad]! -= hps[HyperParams.lr]! * 𝛁p\n",
    "    }\n",
    "}\n",
    "\n",
    "public struct NesterovStep: StepDelegate {\n",
    "    public var defaultHPs: [String: Float] { return [HyperParams.mom: 0.9]}\n",
    "    public init() {}\n",
    "    public func update(_ p: inout TF, 𝛁p: inout TF, \n",
    "                       state: [String : TF], \n",
    "                       hps: inout [String : Float]){\n",
    "        p += -hps[HyperParams.mom]! * state[StateKeys.prevGrad]! + ( 1 + hps[HyperParams.mom]!) * state[StateKeys.avgGrad]!\n",
    "    }\n",
    "}\n"
   ]
  },
  {
   "cell_type": "code",
   "execution_count": 9,
   "metadata": {},
   "outputs": [],
   "source": [
    "public struct L1: StepDelegate {\n",
    "    public var defaultHPs: [String: Float] { return [HyperParams.wd: 0] }\n",
    "    public init() {}\n",
    "    public func update(_ p: inout TF, 𝛁p: inout TF, state: [String:TF], hps: inout [String:Float]) {\n",
    "        𝛁p += hps[HyperParams.wd]! * abs(p).sum()\n",
    "    }\n",
    "}\n",
    "\n",
    "public struct L2: StepDelegate {\n",
    "    public var defaultHPs: [String: Float] { return [HyperParams.wd: 0] }\n",
    "    public init() {}\n",
    "    public func update(_ p: inout TF, 𝛁p: inout TF, state: [String:TF], hps: inout [String:Float]) {\n",
    "        𝛁p += hps[HyperParams.wd]! * p\n",
    "    }\n",
    "}"
   ]
  },
  {
   "cell_type": "markdown",
   "metadata": {},
   "source": [
    "# MLP 1 with SGD"
   ]
  },
  {
   "cell_type": "code",
   "execution_count": 10,
   "metadata": {},
   "outputs": [],
   "source": [
    "func sgd(_ model: MyModel) -> StatefulOptimizer<MyModel> {\n",
    "    return StatefulOptimizer(for: model, \n",
    "                             steppers: [SGDStep()], \n",
    "                             stats: [], \n",
    "                             hps: [HyperParams.lr: 0.01])\n",
    "}\n",
    "\n",
    "let learner_sgd = Learner(\n",
    "                    data: d, \n",
    "                    lossFunc: crossEntropy, \n",
    "                    optFunc: sgd, \n",
    "                    modelInit: modelInit)\n",
    "\n",
    "let recorder_sgd = learner_sgd.makeDefaultDelegates(metrics: [accuracy])\n",
    "learner_sgd.addDelegates([learner_sgd.makeNormalize(mean: mnistStats.mean, std: mnistStats.std)])"
   ]
  },
  {
   "cell_type": "code",
   "execution_count": 12,
   "metadata": {},
   "outputs": [
    {
     "name": "stdout",
     "output_type": "stream",
     "text": [
      "2019-11-25 11:47:00.588825: I tensorflow/stream_executor/platform/default/dso_loader.cc:44] Successfully opened dynamic library libcublas.so.10.0\n",
      "Epoch 0: [0.41809213, 0.8922]                                                  \n",
      "Epoch 1: [0.31533402, 0.9125]                                                  \n",
      "Epoch 2: [0.273459, 0.9223]                                                    \n",
      "Epoch 3: [0.24868932, 0.9311]                                                  \n",
      "Epoch 4: [0.2282586, 0.9355]                                                   \n",
      "Epoch 5: [0.21250889, 0.9406]                                                  \n",
      "Epoch 6: [0.20093067, 0.9418]                                                  \n",
      "Epoch 7: [0.19147848, 0.9445]                                                  \n",
      "Epoch 8: [0.1815941, 0.9478]                                                   \n",
      "Epoch 9: [0.17328143, 0.9499]                                                  \n",
      "Epoch 10: [0.16647558, 0.9524]                                                 \n",
      "Epoch 11: [0.15852758, 0.9528]                                                 \n",
      "Epoch 12: [0.15411158, 0.9546]                                                 \n",
      "Epoch 13: [0.14945826, 0.9553]                                                 \n",
      "Epoch 14: [0.14391956, 0.9573]                                                 \n",
      "Epoch 15: [0.14187385, 0.9573]                                                 \n",
      "Epoch 16: [0.13530539, 0.9596]                                                 \n",
      "Epoch 17: [0.13124837, 0.961]                                                  \n",
      "Epoch 18: [0.12845033, 0.962]                                                  \n",
      "Epoch 19: [0.12515083, 0.9634]                                                 \n",
      "Epoch 20: [0.121604495, 0.9637]                                                \n",
      "Epoch 21: [0.118645504, 0.9655]                                                \n",
      "Epoch 22: [0.11672545, 0.9658]                                                 \n",
      "Epoch 23: [0.1128428, 0.9661]                                                  \n",
      "Epoch 24: [0.1115263, 0.967]                                                   \n",
      "                                                                           \r"
     ]
    }
   ],
   "source": [
    "try! learner_sgd.fit(25)"
   ]
  },
  {
   "cell_type": "code",
   "execution_count": 14,
   "metadata": {},
   "outputs": [
    {
     "data": {
      "image/png": "[encoded data removed]",
      "text/plain": [
       "<Figure size 432x288 with 1 Axes>"
      ]
     },
     "metadata": {
      "needs_background": "light"
     },
     "output_type": "display_data"
    }
   ],
   "source": [
    "recorder_sgd.plotLosses()"
   ]
  },
  {
   "cell_type": "markdown",
   "metadata": {},
   "source": [
    "# MLP 2 with  Nesterov"
   ]
  },
  {
   "cell_type": "code",
   "execution_count": 15,
   "metadata": {},
   "outputs": [],
   "source": [
    "func sgdnest_opt(_ model: MyModel) -> StatefulOptimizer<MyModel> {\n",
    "    return StatefulOptimizer(for: model, \n",
    "                             steppers: [NesterovStep()], \n",
    "                             stats: [PreviousAverageGrad(),AvgGrad()], \n",
    "                             hps: [HyperParams.lr: 0.01])\n",
    "}\n",
    "\n",
    "let learner_nest = Learner(\n",
    "                    data: d, \n",
    "                    lossFunc: crossEntropy, \n",
    "                    optFunc: sgdnest_opt, \n",
    "                    modelInit: modelInit)\n",
    "\n",
    "let recorder_nest = learner_nest.makeDefaultDelegates(metrics: [accuracy])\n",
    "learner_nest.addDelegates([learner_nest.makeNormalize(mean: mnistStats.mean, std: mnistStats.std)])"
   ]
  },
  {
   "cell_type": "code",
   "execution_count": 16,
   "metadata": {},
   "outputs": [
    {
     "name": "stdout",
     "output_type": "stream",
     "text": [
      "Epoch 0: [0.18616255, 0.946]                                                   \n",
      "Epoch 1: [0.13291715, 0.9599]                                                  \n",
      "Epoch 2: [0.10699914, 0.9661]                                                   \n",
      "Epoch 3: [0.093147054, 0.9704]                                                 \n",
      "Epoch 4: [0.0825852, 0.9734]                                                   \n",
      "Epoch 5: [0.079482324, 0.9753]                                                 \n",
      "Epoch 6: [0.07580322, 0.9755]                                                  \n",
      "Epoch 7: [0.07115934, 0.9766]                                                  \n",
      "Epoch 8: [0.067816615, 0.9787]                                                 \n",
      "Epoch 9: [0.06913602, 0.9785]                                                  \n",
      "Epoch 10: [0.06747065, 0.9786]                                                 \n",
      "Epoch 11: [0.064500466, 0.9799]                                                \n",
      "Epoch 12: [0.06414337, 0.9795]                                                 \n",
      "Epoch 13: [0.06484808, 0.9801]                                                 \n",
      "Epoch 14: [0.06436024, 0.9808]                                                 \n",
      "Epoch 15: [0.06271387, 0.9805]                                                 \n",
      "Epoch 16: [0.06456299, 0.9799]                                                 \n",
      "Epoch 17: [0.065037966, 0.9806]                                                \n",
      "Epoch 18: [0.06397586, 0.9804]                                                 \n",
      "Epoch 19: [0.064742126, 0.9803]                                                \n",
      "Epoch 20: [0.063431144, 0.9814]                                                \n",
      "Epoch 21: [0.064217634, 0.9802]                                                \n",
      "Epoch 22: [0.06580294, 0.9805]                                                 \n",
      "Epoch 23: [0.06538726, 0.9814]                                                 \n",
      "Epoch 24: [0.06548995, 0.9805]                                                 \n",
      "                                                                           \r"
     ]
    }
   ],
   "source": [
    "try! learner_nest.fit(25)"
   ]
  },
  {
   "cell_type": "code",
   "execution_count": 17,
   "metadata": {},
   "outputs": [
    {
     "data": {
      "image/png": "[encoded data removed]",
      "text/plain": [
       "<Figure size 432x288 with 1 Axes>"
      ]
     },
     "metadata": {
      "needs_background": "light"
     },
     "output_type": "display_data"
    }
   ],
   "source": [
    "recorder_nest.plotLosses()"
   ]
  },
  {
   "cell_type": "markdown",
   "metadata": {},
   "source": [
    "# MLP 3 with Nesterov and L1"
   ]
  },
  {
   "cell_type": "code",
   "execution_count": 18,
   "metadata": {},
   "outputs": [],
   "source": [
    "//Optimizer with Nesterov step and L1 regularizer\n",
    "func optFunc(_ model: MyModel) -> StatefulOptimizer<MyModel> {\n",
    "    return StatefulOptimizer(for: model, \n",
    "                             steppers: [NesterovStep(), L1()], \n",
    "                             stats: [PreviousAverageGrad(),AvgGrad()], \n",
    "                             hps: [HyperParams.lr: 0.01])\n",
    "}\n",
    "\n",
    "let learner_nest_l1 = Learner(\n",
    "                    data: d, \n",
    "                    lossFunc: crossEntropy, \n",
    "                    optFunc: optFunc, \n",
    "                    modelInit: modelInit)\n",
    "\n",
    "let recorder_nest_l1 = learner_nest_l1.makeDefaultDelegates(metrics: [accuracy])\n",
    "learner_nest_l1.addDelegates([learner_nest_l1.makeNormalize(mean: mnistStats.mean, std: mnistStats.std)])"
   ]
  },
  {
   "cell_type": "code",
   "execution_count": 19,
   "metadata": {},
   "outputs": [
    {
     "name": "stdout",
     "output_type": "stream",
     "text": [
      "Epoch 0: [0.18513611, 0.9456]                                                  \n",
      "Epoch 1: [0.13154909, 0.9584]                                                  \n",
      "Epoch 2: [0.10876113, 0.9677]                                                  \n",
      "Epoch 3: [0.08965957, 0.973]                                                    \n",
      "Epoch 4: [0.08286301, 0.9759]                                                  \n",
      "Epoch 5: [0.07550116, 0.9774]                                                  \n",
      "Epoch 6: [0.073035024, 0.977]                                                  \n",
      "Epoch 7: [0.06905564, 0.979]                                                    \n",
      "Epoch 8: [0.06637703, 0.9782]                                                  \n",
      "Epoch 9: [0.06363194, 0.9787]                                                  \n",
      "Epoch 10: [0.06579249, 0.9797]                                                 \n",
      "Epoch 11: [0.06474247, 0.9788]                                                 \n",
      "Epoch 12: [0.063263156, 0.9805]                                                \n",
      "Epoch 13: [0.062039256, 0.9804]                                                \n",
      "Epoch 14: [0.0646286, 0.9797]                                                  \n",
      "Epoch 15: [0.063225485, 0.9804]                                                \n",
      "Epoch 16: [0.0641104, 0.9808]                                                  \n",
      "Epoch 17: [0.06406061, 0.98]                                                   \n",
      "Epoch 18: [0.0668549, 0.98]                                                    \n",
      "Epoch 19: [0.06367236, 0.98]                                                   \n",
      "Epoch 20: [0.06453802, 0.9803]                                                 \n",
      "Epoch 21: [0.06437604, 0.9804]                                                 \n",
      "Epoch 22: [0.064291365, 0.9807]                                                \n",
      "Epoch 23: [0.06400351, 0.9807]                                                 \n",
      "Epoch 24: [0.06562128, 0.9807]                                                 \n",
      "                                                                           \r"
     ]
    }
   ],
   "source": [
    "learner_nest_l1.fit(25)"
   ]
  },
  {
   "cell_type": "code",
   "execution_count": 20,
   "metadata": {},
   "outputs": [
    {
     "data": {
      "image/png": "[encoded data removed]",
      "text/plain": [
       "<Figure size 432x288 with 1 Axes>"
      ]
     },
     "metadata": {
      "needs_background": "light"
     },
     "output_type": "display_data"
    }
   ],
   "source": [
    "recorder_nest_l1.plotLosses()"
   ]
  },
  {
   "cell_type": "markdown",
   "metadata": {},
   "source": [
    "# MLP 4 with Nesterov and L2"
   ]
  },
  {
   "cell_type": "code",
   "execution_count": 21,
   "metadata": {},
   "outputs": [],
   "source": [
    "func SGD_nest_L2(_ model: MyModel) -> StatefulOptimizer<MyModel> {\n",
    "    return StatefulOptimizer(for: model, \n",
    "                             steppers: [NesterovStep(), L2()], \n",
    "                             stats: [PreviousAverageGrad(),AvgGrad()], \n",
    "                             hps: [HyperParams.lr: 0.01])\n",
    "}\n",
    "\n",
    "let learner_nest_l2 = Learner(\n",
    "                    data: d, \n",
    "                    lossFunc: crossEntropy, \n",
    "                    optFunc: SGD_nest_L2, \n",
    "                    modelInit: modelInit)\n",
    "\n",
    "let recorder_nest_l2 = learner_nest_l2.makeDefaultDelegates(metrics: [accuracy])\n",
    "learner_nest_l2.addDelegates([learner_nest_l2.makeNormalize(mean: mnistStats.mean, std: mnistStats.std)])"
   ]
  },
  {
   "cell_type": "code",
   "execution_count": 22,
   "metadata": {},
   "outputs": [
    {
     "name": "stdout",
     "output_type": "stream",
     "text": [
      "Epoch 0: [0.1840556, 0.9474]                                                   \n",
      "Epoch 1: [0.14003219, 0.9578]                                                   \n",
      "Epoch 2: [0.10877262, 0.9673]                                                  \n",
      "Epoch 3: [0.09227904, 0.9721]                                                  \n",
      "Epoch 4: [0.08674959, 0.9751]                                                  \n",
      "Epoch 5: [0.078174286, 0.9766]                                                  \n",
      "Epoch 6: [0.07648895, 0.9757]                                                  \n",
      "Epoch 7: [0.0723128, 0.977]                                                    \n",
      "Epoch 8: [0.067047946, 0.98]                                                   \n",
      "Epoch 9: [0.064890616, 0.9792]                                                 \n",
      "Epoch 10: [0.06279896, 0.9799]                                                 \n",
      "Epoch 11: [0.062465306, 0.9803]                                                \n",
      "Epoch 12: [0.06255239, 0.9811]                                                 \n",
      "Epoch 13: [0.06168053, 0.9809]                                                 \n",
      "Epoch 14: [0.061161436, 0.9815]                                                \n",
      "Epoch 15: [0.06282578, 0.9813]                                                 \n",
      "Epoch 16: [0.061817754, 0.9827]                                                \n",
      "Epoch 17: [0.06111848, 0.9824]                                                 \n",
      "Epoch 18: [0.062215075, 0.9817]                                                \n",
      "Epoch 19: [0.06184314, 0.9822]                                                  \n",
      "Epoch 20: [0.06281643, 0.9821]                                                 \n",
      "Epoch 21: [0.062966876, 0.9813]                                                \n",
      "Epoch 22: [0.06268476, 0.982]                                                   \n",
      "Epoch 23: [0.06251461, 0.9822]                                                 \n",
      "Epoch 24: [0.06366623, 0.9821]                                                 \n",
      "                                                                           \r"
     ]
    }
   ],
   "source": [
    "learner_nest_l2.fit(25)"
   ]
  },
  {
   "cell_type": "code",
   "execution_count": 23,
   "metadata": {},
   "outputs": [
    {
     "data": {
      "image/png": "[encoded data removed]",
      "text/plain": [
       "<Figure size 432x288 with 1 Axes>"
      ]
     },
     "metadata": {
      "needs_background": "light"
     },
     "output_type": "display_data"
    }
   ],
   "source": [
    "recorder_nest_l2.plotLosses()"
   ]
  },
  {
   "cell_type": "code",
   "execution_count": 24,
   "metadata": {},
   "outputs": [],
   "source": [
    "let y = Array(0..<recorder_nest_l2.losses.count)\n",
    "let sgd: Array<Float>     = recorder_sgd.losses.compactMap{$0.scalar}\n",
    "let nest: Array<Float>    = recorder_nest.losses.compactMap{$0.scalar}\n",
    "let nest_l1: Array<Float> = recorder_nest_l1.losses.compactMap{$0.scalar}\n",
    "let nest_l2: Array<Float> = recorder_nest_l2.losses.compactMap{$0.scalar}\n"
   ]
  },
  {
   "cell_type": "code",
   "execution_count": 28,
   "metadata": {},
   "outputs": [],
   "source": [
    "func smooth_curve(points:Array<Float>, factor:Float=0.9) -> Array<Float> {\n",
    "    var smoothed_points: Array<Float> = Array()\n",
    "    let x1 = points.first\n",
    "    smoothed_points.append(x1!)\n",
    "    var points_ = points.dropFirst()\n",
    "    for point in points_{\n",
    "            let previous = smoothed_points.last\n",
    "            let smth = previous! * factor + point * (1 - factor)\n",
    "            smoothed_points.append(smth)\n",
    "    }\n",
    "        \n",
    "    return smoothed_points\n",
    "}\n",
    "    "
   ]
  },
  {
   "cell_type": "code",
   "execution_count": 33,
   "metadata": {},
   "outputs": [
    {
     "data": {
      "text/plain": [
       "<Figure size 1080x720 with 0 Axes>"
      ]
     },
     "metadata": {},
     "output_type": "display_data"
    },
    {
     "data": {
      "text/plain": [
       "<Figure size 1080x720 with 0 Axes>"
      ]
     },
     "metadata": {},
     "output_type": "display_data"
    },
    {
     "data": {
      "text/plain": [
       "<Figure size 1080x720 with 0 Axes>"
      ]
     },
     "metadata": {},
     "output_type": "display_data"
    },
    {
     "data": {
      "image/png": "[encoded data removed]",
      "text/plain": [
       "<Figure size 1080x720 with 1 Axes>"
      ]
     },
     "metadata": {
      "needs_background": "light"
     },
     "output_type": "display_data"
    },
    {
     "data": {
      "text/plain": [
       "None\n"
      ]
     },
     "execution_count": 33,
     "metadata": {},
     "output_type": "execute_result"
    }
   ],
   "source": [
    "plt.figure(figsize: [15, 10])\n",
    "let i = 0\n",
    "let n = 5000\n",
    "let y2 = Array(y[i..<n])\n",
    "plt.plot(y2,smooth_curve(points: Array(sgd[i..<n])), label:\"SGD\")\n",
    "plt.plot(y2,smooth_curve(points: Array(nest[i..<n])), label:\"SGD Nesterov, m=0.9\")\n",
    "plt.plot(y2,smooth_curve(points: Array(nest_l1[i..<n])), label:\"SGD Nesterov, m=0.9, L1\")\n",
    "plt.plot(y2,smooth_curve(points: Array(nest_l2[i..<n])), label:\"SGD Nesterov, m=0.9, L2\")\n",
    "plt.legend()\n",
    "plt.xlabel(\"Iterations\")\n",
    "plt.ylabel(\"Loss\")\n",
    "plt.title(\"MLP 512-512 MNIST\")\n",
    "plt.show()"
   ]
  }
 ],
 "metadata": {
  "kernelspec": {
   "display_name": "Swift",
   "language": "swift",
   "name": "swift"
  },
  "language_info": {
   "file_extension": ".swift",
   "mimetype": "text/x-swift",
   "name": "swift",
   "version": ""
  }
 },
 "nbformat": 4,
 "nbformat_minor": 2
}
