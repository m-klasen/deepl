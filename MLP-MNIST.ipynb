{
 "cells": [
  {
   "cell_type": "code",
   "execution_count": 1,
   "metadata": {
    "collapsed": true
   },
   "outputs": [
    {
     "name": "stdout",
     "output_type": "stream",
     "text": [
      "Installing packages:\n",
      "\t.package(path: \"/home/mlk/swift/swiftai\")\n",
      "\t\tSwiftAI\n",
      "With SwiftPM flags: []\n",
      "Working in: /tmp/tmp1a_nc1y6/swift-install\n",
      "warning: /home/mlk/swift/usr/bin/swiftc: /home/mlk/anaconda3/envs/fai/lib/libuuid.so.1: no version information available (required by /home/mlk/swift/usr/bin/swiftc)\n",
      "/home/mlk/swift/usr/bin/swift: /home/mlk/anaconda3/envs/fai/lib/libuuid.so.1: no version information available (required by /home/mlk/swift/usr/bin/swift)\n",
      "warning: /home/mlk/swift/usr/bin/swiftc: /home/mlk/anaconda3/envs/fai/lib/libuuid.so.1: no version information available (required by /home/mlk/swift/usr/bin/swiftc)\n",
      "/home/mlk/swift/usr/bin/swift: /home/mlk/anaconda3/envs/fai/lib/libuuid.so.1: no version information available (required by /home/mlk/swift/usr/bin/swift)\n",
      "warning: /home/mlk/swift/usr/bin/swiftc: /home/mlk/anaconda3/envs/fai/lib/libuuid.so.1: no version information available (required by /home/mlk/swift/usr/bin/swiftc)\n",
      "/home/mlk/swift/usr/bin/swift: /home/mlk/anaconda3/envs/fai/lib/libuuid.so.1: no version information available (required by /home/mlk/swift/usr/bin/swift)\n",
      "warning: /home/mlk/swift/usr/bin/swiftc: /home/mlk/anaconda3/envs/fai/lib/libuuid.so.1: no version information available (required by /home/mlk/swift/usr/bin/swiftc)\n",
      "/home/mlk/swift/usr/bin/swift: /home/mlk/anaconda3/envs/fai/lib/libuuid.so.1: no version information available (required by /home/mlk/swift/usr/bin/swift)\n",
      "/home/mlk/swift/usr/bin/swiftc: /home/mlk/anaconda3/envs/fai/lib/libuuid.so.1: no version information available (required by /home/mlk/swift/usr/bin/swiftc)\n",
      "/home/mlk/swift/usr/bin/swiftc: /home/mlk/anaconda3/envs/fai/lib/libuuid.so.1: no version information available (required by /home/mlk/swift/usr/bin/swiftc)[1/2] Compiling jupyterInstalledPackages jupyterInstalledPackages.swift\n",
      "/home/mlk/swift/usr/bin/swift: /home/mlk/anaconda3/envs/fai/lib/libuuid.so.1: no version information available (required by /home/mlk/swift/usr/bin/swift)\n",
      "[2/3] Merging module jupyterInstalledPackages\n",
      "/home/mlk/swift/usr/bin/swift: /home/mlk/anaconda3/envs/fai/lib/libuuid.so.1: no version information available (required by /home/mlk/swift/usr/bin/swift)\n",
      "Initializing Swift...\n",
      "Installation complete!\n"
     ]
    }
   ],
   "source": [
    "%install-location $cwd/swift-install\n",
    "%install '.package(path: \"$cwd/swiftai\")' SwiftAI"
   ]
  },
  {
   "cell_type": "code",
   "execution_count": 2,
   "metadata": {},
   "outputs": [],
   "source": [
    "import SwiftAI\n",
    "import TensorFlow\n",
    "import Python\n",
    "%include \"EnableIPythonDisplay.swift\"\n",
    "IPythonDisplay.shell.enable_matplotlib(\"inline\")\n",
    "let plt = Python.import(\"matplotlib.pyplot\")\n",
    "let np = Python.import(\"numpy\")"
   ]
  },
  {
   "cell_type": "code",
   "execution_count": 3,
   "metadata": {},
   "outputs": [],
   "source": [
    "import Foundation\n",
    "import Just\n",
    "import Path"
   ]
  },
  {
   "cell_type": "code",
   "execution_count": 4,
   "metadata": {},
   "outputs": [],
   "source": [
    "let d = mnistDataBunch(path: Path.home/\"swift\", flat: true, bs: 64)"
   ]
  },
  {
   "cell_type": "code",
   "execution_count": 5,
   "metadata": {},
   "outputs": [
    {
     "data": {
      "text/plain": [
       "▿ [64, 784]\n",
       "  ▿ dimensions : 2 elements\n",
       "    - 0 : 64\n",
       "    - 1 : 784\n"
      ]
     },
     "execution_count": 5,
     "metadata": {},
     "output_type": "execute_result"
    }
   ],
   "source": [
    "d.train.ds.first(where: { _ in true })!.xb.shape"
   ]
  },
  {
   "cell_type": "code",
   "execution_count": 6,
   "metadata": {},
   "outputs": [],
   "source": [
    "//MLP model with 2 hidden layers\n",
    "public struct MyModel: Layer {\n",
    "    public var hidden1: FADense<Float>\n",
    "    public var hidden2: FADense<Float>\n",
    "    public var out:     FADense<Float>\n",
    "    \n",
    "    public init(nIn: Int, nHid: Int, nOut: Int){\n",
    "        hidden1 = FADense(nIn, nHid, activation: relu)\n",
    "        hidden2 = FADense(nHid, nHid, activation: relu)\n",
    "        out =     FADense(nHid, nOut)\n",
    "    }\n",
    "    \n",
    "    @differentiable\n",
    "    public func callAsFunction(_ input: TF) -> TF {\n",
    "        return out(hidden2(hidden1(input)))\n",
    "    }\n",
    "}\n"
   ]
  },
  {
   "cell_type": "code",
   "execution_count": 7,
   "metadata": {},
   "outputs": [],
   "source": [
    "func modelInit() -> MyModel { return MyModel(nIn: 784,nHid: 512, nOut: 10) }"
   ]
  },
  {
   "cell_type": "code",
   "execution_count": 8,
   "metadata": {},
   "outputs": [],
   "source": [
    "// Source: http://cs231n.github.io/neural-networks-3/#sgd\n",
    "\n",
    "public extension StateKeys {\n",
    "    static let prevGrad = \"previousAverageGrad\"\n",
    "}\n",
    "\n",
    "public struct PreviousAverageGrad: StatDelegate {\n",
    "    public var defaultHPs: [String:Float] { return [:] }\n",
    "    public var name: String { return StateKeys.prevGrad }\n",
    "    public func update(_ state: inout [String: TF], p: TF, 𝛁p: TF, hps: inout [String:Float]) {\n",
    "        state[StateKeys.prevGrad]! = state[StateKeys.avgGrad]!\n",
    "    }\n",
    "}\n",
    "\n",
    "public struct AvgGrad: StatDelegate {\n",
    "    public var defaultHPs: [String: Float] { return [HyperParams.mom: 0.9] }\n",
    "    public let dampened: Bool\n",
    "    public init(dampened: Bool = false) { self.dampened = dampened }\n",
    "    public var name: String { return StateKeys.avgGrad }\n",
    "    public func update(_ state: inout [String: TF], p: TF, 𝛁p: TF, hps: inout [String:Float]) {\n",
    "        state[StateKeys.avgGrad]! *= hps[HyperParams.mom]!\n",
    "        hps[HyperParams.momDamp] = 1.0 - (dampened ? hps[HyperParams.mom]! : 0.0)\n",
    "        state[StateKeys.avgGrad]! -= hps[HyperParams.lr]! * 𝛁p\n",
    "    }\n",
    "}\n",
    "\n",
    "public struct NesterovStep: StepDelegate {\n",
    "    public var defaultHPs: [String: Float] { return [HyperParams.mom: 0.9]}\n",
    "    public init() {}\n",
    "    public func update(_ p: inout TF, 𝛁p: inout TF, \n",
    "                       state: [String : TF], \n",
    "                       hps: inout [String : Float]){\n",
    "        p += -hps[HyperParams.mom]! * state[StateKeys.prevGrad]! + ( 1 + hps[HyperParams.mom]!) * state[StateKeys.avgGrad]!\n",
    "    }\n",
    "}\n"
   ]
  },
  {
   "cell_type": "code",
   "execution_count": 9,
   "metadata": {},
   "outputs": [],
   "source": [
    "public struct L1: StepDelegate {\n",
    "    public var defaultHPs: [String: Float] { return [HyperParams.wd: 0] }\n",
    "    public init() {}\n",
    "    public func update(_ p: inout TF, 𝛁p: inout TF, state: [String:TF], hps: inout [String:Float]) {\n",
    "        𝛁p += hps[HyperParams.wd]! * abs(p).sum()\n",
    "    }\n",
    "}\n",
    "\n",
    "public struct L2: StepDelegate {\n",
    "    public var defaultHPs: [String: Float] { return [HyperParams.wd: 0] }\n",
    "    public init() {}\n",
    "    public func update(_ p: inout TF, 𝛁p: inout TF, state: [String:TF], hps: inout [String:Float]) {\n",
    "        𝛁p += hps[HyperParams.wd]! * p\n",
    "    }\n",
    "}"
   ]
  },
  {
   "cell_type": "markdown",
   "metadata": {},
   "source": [
    "# MLP 1 with SGD"
   ]
  },
  {
   "cell_type": "code",
   "execution_count": 10,
   "metadata": {},
   "outputs": [],
   "source": [
    "func optFunc(_ model: MyModel) -> SGD<MyModel> { return SGD(for: model, learningRate: 0.4)}\n",
    "\n",
    "let learner = Learner(\n",
    "                    data: d, \n",
    "                    lossFunc: crossEntropy, \n",
    "                    optFunc: optFunc, \n",
    "                    modelInit: modelInit)\n",
    "\n",
    "let recorder_sgd = learner.makeDefaultDelegates(metrics: [accuracy])\n",
    "learner.addDelegates([learner.makeNormalize(mean: mnistStats.mean, std: mnistStats.std)])"
   ]
  },
  {
   "cell_type": "code",
   "execution_count": 11,
   "metadata": {},
   "outputs": [
    {
     "name": "stdout",
     "output_type": "stream",
     "text": [
      "Epoch 0: [0.120140456, 0.9645]                                                 \n",
      "Epoch 1: [0.09337992, 0.9741]                                                  \n",
      "Epoch 2: [0.09351295, 0.9731]                                                  \n",
      "Epoch 3: [0.084014, 0.9775]                                                    \n",
      "Epoch 4: [0.07416796, 0.9798]                                                  \n",
      "Epoch 5: [0.09064002, 0.9775]                                                  \n",
      "Epoch 6: [0.07780882, 0.9802]                                                  \n",
      "Epoch 7: [0.10909948, 0.9782]                                                  \n",
      "Epoch 8: [0.082505986, 0.9809]                                                 \n",
      "Epoch 9: [0.08240178, 0.9812]                                                  \n",
      "Epoch 10: [0.08634438, 0.9827]                                                 \n",
      "Epoch 11: [0.09404951, 0.9817]                                                 \n",
      "Epoch 12: [0.09266569, 0.9832]                                                 \n",
      "Epoch 13: [0.08404415, 0.9836]                                                 \n",
      "Epoch 14: [0.08106065, 0.9842]                                                 \n",
      "Epoch 15: [0.08127095, 0.9843]                                                 \n",
      "Epoch 16: [0.08207746, 0.9844]                                                 \n",
      "Epoch 17: [0.08243876, 0.9844]                                                 \n",
      "Epoch 18: [0.08310053, 0.9844]                                                 \n",
      "Epoch 19: [0.08344438, 0.9845]                                                 \n",
      "Epoch 20: [0.08387745, 0.9846]                                                 \n",
      "Epoch 21: [0.08429668, 0.9847]                                                 \n",
      "Epoch 22: [0.08477641, 0.9847]                                                 \n",
      "Epoch 23: [0.08514839, 0.9847]                                                 \n",
      "Epoch 24: [0.08547423, 0.9847]                                                 \n",
      "                                                                             \r"
     ]
    }
   ],
   "source": [
    "learner.fit(25)"
   ]
  },
  {
   "cell_type": "code",
   "execution_count": 13,
   "metadata": {
    "scrolled": true
   },
   "outputs": [
    {
     "data": {
      "image/png": "[encoded data removed]",
      "text/plain": [
       "<Figure size 432x288 with 1 Axes>"
      ]
     },
     "metadata": {
      "needs_background": "light"
     },
     "output_type": "display_data"
    }
   ],
   "source": [
    "recorder_sgd.plotLosses()"
   ]
  },
  {
   "cell_type": "markdown",
   "metadata": {},
   "source": [
    "# MLP 2 with  Nesterov"
   ]
  },
  {
   "cell_type": "code",
   "execution_count": 14,
   "metadata": {},
   "outputs": [],
   "source": [
    "func optFunc(_ model: MyModel) -> SGD<MyModel> { \n",
    "    return SGD(for: model, learningRate: 0.4, nesterov: true)}\n",
    "\n",
    "let learner_nest = Learner(\n",
    "                    data: d, \n",
    "                    lossFunc: crossEntropy, \n",
    "                    optFunc: optFunc, \n",
    "                    modelInit: modelInit)\n",
    "\n",
    "let recorder_nest = learner_nest.makeDefaultDelegates(metrics: [accuracy])\n",
    "learner.addDelegates([learner_nest.makeNormalize(mean: mnistStats.mean, std: mnistStats.std)])"
   ]
  },
  {
   "cell_type": "code",
   "execution_count": 15,
   "metadata": {},
   "outputs": [
    {
     "name": "stdout",
     "output_type": "stream",
     "text": [
      "Epoch 0: [0.13271366, 0.9591]                                                  \n",
      "Epoch 1: [0.086512186, 0.9722]                                                 \n",
      "Epoch 2: [0.07691502, 0.9737]                                                  \n",
      "Epoch 3: [0.100283444, 0.9699]                                                 \n",
      "Epoch 4: [0.07159021, 0.9792]                                                  \n",
      "Epoch 5: [0.061131377, 0.9822]                                                 \n",
      "Epoch 6: [0.06320998, 0.9817]                                                  \n",
      "Epoch 7: [0.105402954, 0.9725]                                                 \n",
      "Epoch 8: [0.061935723, 0.9833]                                                 \n",
      "Epoch 9: [0.06935157, 0.9828]                                                  \n",
      "Epoch 10: [0.062577285, 0.9835]                                                \n",
      "Epoch 11: [0.063769735, 0.9845]                                                \n",
      "Epoch 12: [0.06292782, 0.9847]                                                 \n",
      "Epoch 13: [0.06481217, 0.9844]                                                 \n",
      "Epoch 14: [0.066760026, 0.9845]                                                \n",
      "Epoch 15: [0.06723332, 0.9842]                                                 \n",
      "Epoch 16: [0.0676678, 0.9845]                                                  \n",
      "Epoch 17: [0.06830199, 0.9844]                                                 \n",
      "Epoch 18: [0.068976015, 0.9844]                                                \n",
      "Epoch 19: [0.069403164, 0.9842]                                                \n",
      "Epoch 20: [0.06967981, 0.9844]                                                 \n",
      "Epoch 21: [0.07019593, 0.9844]                                                 \n",
      "Epoch 22: [0.0708292, 0.9843]                                                  \n",
      "Epoch 23: [0.07141099, 0.9844]                                                 \n",
      "Epoch 24: [0.07117544, 0.9843]                                                 \n",
      "                                                                              \r"
     ]
    }
   ],
   "source": [
    "try! learner_nest.fit(25)"
   ]
  },
  {
   "cell_type": "code",
   "execution_count": 16,
   "metadata": {},
   "outputs": [
    {
     "data": {
      "image/png": "[encoded data removed]",
      "text/plain": [
       "<Figure size 432x288 with 1 Axes>"
      ]
     },
     "metadata": {
      "needs_background": "light"
     },
     "output_type": "display_data"
    }
   ],
   "source": [
    "recorder_nest.plotLosses()"
   ]
  },
  {
   "cell_type": "markdown",
   "metadata": {},
   "source": [
    "# MLP 3 with Nesterov and L1"
   ]
  },
  {
   "cell_type": "code",
   "execution_count": 17,
   "metadata": {},
   "outputs": [],
   "source": [
    "//Optimizer with Nesterov step and L1 regularizer\n",
    "func optFunc(_ model: MyModel) -> StatefulOptimizer<MyModel> {\n",
    "    return StatefulOptimizer(for: model, \n",
    "                             steppers: [NesterovStep(), L1()], \n",
    "                             stats: [AvgGrad(),PreviousAverageGrad()], \n",
    "                             hps: [HyperParams.lr: 0.01])\n",
    "}\n",
    "\n",
    "let learner_nest_l1 = Learner(\n",
    "                    data: d, \n",
    "                    lossFunc: crossEntropy, \n",
    "                    optFunc: optFunc, \n",
    "                    modelInit: modelInit)\n",
    "\n",
    "let recorder_nest_l1 = learner_nest_l1.makeDefaultDelegates(metrics: [accuracy])\n",
    "learner_nest_l1.addDelegates([learner_nest_l1.makeNormalize(mean: mnistStats.mean, std: mnistStats.std)])"
   ]
  },
  {
   "cell_type": "code",
   "execution_count": 18,
   "metadata": {},
   "outputs": [
    {
     "name": "stdout",
     "output_type": "stream",
     "text": [
      "Epoch 0: [0.15907194, 0.9509]                                                  \n",
      "Epoch 1: [0.0826734, 0.9739]                                                   \n",
      "Epoch 2: [0.08246678, 0.9764]                                                  \n",
      "Epoch 3: [0.10238237, 0.9717]                                                  \n",
      "Epoch 4: [0.102700636, 0.9747]                                                 \n",
      "Epoch 5: [0.07805958, 0.979]                                                   \n",
      "Epoch 6: [0.080071025, 0.9803]                                                 \n",
      "Epoch 7: [0.10137642, 0.9776]                                                  \n",
      "Epoch 8: [0.08387658, 0.9815]                                                   \n",
      "Epoch 9: [0.07873538, 0.9842]                                                  \n",
      "Epoch 10: [0.085704505, 0.9836]                                                \n",
      "Epoch 11: [0.07866516, 0.985]                                                  \n",
      "Epoch 12: [0.079245254, 0.9851]                                                \n",
      "Epoch 13: [0.07970636, 0.9854]                                                 \n",
      "Epoch 14: [0.08032397, 0.9855]                                                 \n",
      "Epoch 15: [0.08096352, 0.9856]                                                 \n",
      "Epoch 16: [0.08145648, 0.9858]                                                 \n",
      "Epoch 17: [0.08193594, 0.9857]                                                 \n",
      "Epoch 18: [0.08241432, 0.9857]                                                 \n",
      "Epoch 19: [0.08279292, 0.9857]                                                 \n",
      "Epoch 20: [0.083210655, 0.9858]                                                \n",
      "Epoch 21: [0.083595626, 0.9857]                                                \n",
      "Epoch 22: [0.08388746, 0.9857]                                                 \n",
      "Epoch 23: [0.08419585, 0.9857]                                                 \n",
      "Epoch 24: [0.08451788, 0.9858]                                                 \n",
      "                                                                           \r"
     ]
    }
   ],
   "source": [
    "learner_nest_l1.fit(25)"
   ]
  },
  {
   "cell_type": "code",
   "execution_count": 19,
   "metadata": {},
   "outputs": [
    {
     "data": {
      "image/png": "[encoded data removed]",
      "text/plain": [
       "<Figure size 432x288 with 1 Axes>"
      ]
     },
     "metadata": {
      "needs_background": "light"
     },
     "output_type": "display_data"
    }
   ],
   "source": [
    "recorder_nest_l1.plotLosses()"
   ]
  },
  {
   "cell_type": "markdown",
   "metadata": {},
   "source": [
    "# MLP 4 with Nesterov and L2"
   ]
  },
  {
   "cell_type": "code",
   "execution_count": 20,
   "metadata": {},
   "outputs": [],
   "source": [
    "func SGD_nest_L2(_ model: MyModel) -> StatefulOptimizer<MyModel> {\n",
    "    return StatefulOptimizer(for: model, \n",
    "                             steppers: [NesterovStep(), L2()], \n",
    "                             stats: [AvgGrad(),PreviousAverageGrad()], \n",
    "                             hps: [HyperParams.lr: 0.01])\n",
    "}\n",
    "\n",
    "let learner_nest_l2 = Learner(\n",
    "                    data: d, \n",
    "                    lossFunc: crossEntropy, \n",
    "                    optFunc: SGD_nest_L2, \n",
    "                    modelInit: modelInit)\n",
    "\n",
    "let recorder_nest_l2 = learner_nest_l2.makeDefaultDelegates(metrics: [accuracy])\n",
    "learner_nest_l2.addDelegates([learner_nest_l2.makeNormalize(mean: mnistStats.mean, std: mnistStats.std)])"
   ]
  },
  {
   "cell_type": "code",
   "execution_count": 21,
   "metadata": {},
   "outputs": [
    {
     "name": "stdout",
     "output_type": "stream",
     "text": [
      "Epoch 0: [0.113647, 0.966]                                                     \n",
      "Epoch 1: [0.08415924, 0.9719]                                                  \n",
      "Epoch 2: [0.071176976, 0.9775]                                                  \n",
      "Epoch 3: [0.07968872, 0.9762]                                                  \n",
      "Epoch 4: [0.06253215, 0.9803]                                                  \n",
      "Epoch 5: [0.06856981, 0.9794]                                                  \n",
      "Epoch 6: [0.066111155, 0.9825]                                                 \n",
      "Epoch 7: [0.06528852, 0.9815]                                                  \n",
      "Epoch 8: [0.06649248, 0.982]                                                   \n",
      "Epoch 9: [0.064171836, 0.9837]                                                 \n",
      "Epoch 10: [0.06621935, 0.9825]                                                 \n",
      "Epoch 11: [0.06812059, 0.9827]                                                 \n",
      "Epoch 12: [0.06616516, 0.9837]                                                 \n",
      "Epoch 13: [0.067334116, 0.9833]                                                \n",
      "Epoch 14: [0.06772863, 0.9839]                                                  \n",
      "Epoch 15: [0.06861109, 0.9838]                                                 \n",
      "Epoch 16: [0.0689304, 0.9838]                                                  \n",
      "Epoch 17: [0.068796866, 0.984]                                                 \n",
      "Epoch 18: [0.06946245, 0.9837]                                                 \n",
      "Epoch 19: [0.07022022, 0.9839]                                                 \n",
      "Epoch 20: [0.07046889, 0.9834]                                                  \n",
      "Epoch 21: [0.071115255, 0.9838]                                                \n",
      "Epoch 22: [0.07161929, 0.984]                                                  \n",
      "Epoch 23: [0.07177885, 0.9839]                                                 \n",
      "Epoch 24: [0.07207376, 0.9839]                                                 \n",
      "                                                                           \r"
     ]
    }
   ],
   "source": [
    "learner_nest_l2.fit(25)"
   ]
  },
  {
   "cell_type": "code",
   "execution_count": 23,
   "metadata": {},
   "outputs": [
    {
     "data": {
      "image/png": "[encoded data removed]",
      "text/plain": [
       "<Figure size 432x288 with 1 Axes>"
      ]
     },
     "metadata": {
      "needs_background": "light"
     },
     "output_type": "display_data"
    }
   ],
   "source": [
    "recorder_nest_l2.plotLosses()"
   ]
  },
  {
   "cell_type": "code",
   "execution_count": 159,
   "metadata": {},
   "outputs": [],
   "source": [
    "let y = Array(0..<recorder_nest_l2.losses.count)\n",
    "let sgd: Array<Float>     = recorder_sgd.losses.compactMap{$0.scalar}.\n",
    "let nest: Array<Float>    = recorder_nest.losses.compactMap{$0.scalar}\n",
    "let nest_l1: Array<Float> = recorder_nest_l1.losses.compactMap{$0.scalar}\n",
    "let nest_l2: Array<Float> = recorder_nest_l2.losses.compactMap{$0.scalar}\n"
   ]
  },
  {
   "cell_type": "code",
   "execution_count": 177,
   "metadata": {},
   "outputs": [],
   "source": [
    "func smooth_curve(points:Array<Float>, factor:Float=0.99) -> Array<Float> {\n",
    "    var smoothed_points: Array<Float> = Array()\n",
    "    let x1 = points.first\n",
    "    smoothed_points.append(x1!)\n",
    "    var points_ = points.dropFirst()\n",
    "    for point in points_{\n",
    "            let previous = smoothed_points.last\n",
    "            let smth = previous! * factor + point * (1 - factor)\n",
    "            smoothed_points.append(smth)\n",
    "    }\n",
    "        \n",
    "    return smoothed_points\n",
    "}\n",
    "    "
   ]
  },
  {
   "cell_type": "code",
   "execution_count": 187,
   "metadata": {},
   "outputs": [
    {
     "data": {
      "image/png": "[encoded data removed]",
      "text/plain": [
       "<Figure size 1080x720 with 1 Axes>"
      ]
     },
     "metadata": {
      "needs_background": "light"
     },
     "output_type": "display_data"
    },
    {
     "data": {
      "text/plain": [
       "None\n"
      ]
     },
     "execution_count": 187,
     "metadata": {},
     "output_type": "execute_result"
    }
   ],
   "source": [
    "plt.figure(figsize: [15, 10])\n",
    "let i = 15\n",
    "let n = 5000\n",
    "let y2 = Array(y[i..<n])\n",
    "plt.plot(y2,smooth_curve(points: Array(sgd[i..<n])), label:\"SGD\")\n",
    "plt.plot(y2,smooth_curve(points: Array(nest[i..<n])), label:\"SGD Nesterov, m=0.9\")\n",
    "plt.plot(y2,smooth_curve(points: Array(nest_l1[i..<n])), label:\"SGD Nesterov, m=0.9, L1\")\n",
    "plt.plot(y2,smooth_curve(points: Array(nest_l2[i..<n])), label:\"SGD Nesterov, m=0.9, L2\")\n",
    "plt.legend()\n",
    "plt.xlabel(\"Iterations\")\n",
    "plt.ylabel(\"Loss\")\n",
    "plt.title(\"MLP 512-512 MNIST\")\n",
    "plt.show()"
   ]
  }
 ],
 "metadata": {
  "kernelspec": {
   "display_name": "Swift",
   "language": "swift",
   "name": "swift"
  },
  "language_info": {
   "file_extension": ".swift",
   "mimetype": "text/x-swift",
   "name": "swift",
   "version": ""
  }
 },
 "nbformat": 4,
 "nbformat_minor": 2
}
