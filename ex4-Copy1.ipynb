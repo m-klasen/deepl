{
 "cells": [
  {
   "cell_type": "code",
   "execution_count": 1,
   "metadata": {},
   "outputs": [
    {
     "name": "stdout",
     "output_type": "stream",
     "text": [
      "Installing packages:\n",
      "\t.package(path: \"/home/mlk/swift/swiftai\")\n",
      "\t\tSwiftAI\n",
      "With SwiftPM flags: []\n",
      "Working in: /tmp/tmp03r_5j0v/swift-install\n",
      "[1/2] Compiling jupyterInstalledPackages jupyterInstalledPackages.swift\n",
      "[2/3] Merging module jupyterInstalledPackages\n",
      "Initializing Swift...\n",
      "Installation complete!\n"
     ]
    }
   ],
   "source": [
    "%install-location $cwd/swift-install\n",
    "%install '.package(path: \"$cwd/swiftai\")' SwiftAI"
   ]
  },
  {
   "cell_type": "code",
   "execution_count": 2,
   "metadata": {},
   "outputs": [],
   "source": [
    "import SwiftAI\n",
    "import TensorFlow\n",
    "import Python\n",
    "%include \"EnableIPythonDisplay.swift\"\n",
    "IPythonDisplay.shell.enable_matplotlib(\"inline\")\n",
    "let plt = Python.import(\"matplotlib.pyplot\")\n",
    "let np = Python.import(\"numpy\")\n",
    "import Foundation\n",
    "import Just\n",
    "import Path"
   ]
  },
  {
   "cell_type": "code",
   "execution_count": null,
   "metadata": {},
   "outputs": [],
   "source": [
    "func loadCIFARFile(training: Bool,in directory: String = \".\") -> (Tensor<Float>,Tensor<Int32>) {\n",
    "    //downloadCIFAR10IfNotPresent(to: directory)\n",
    "    // TODO: path & downloadable\n",
    "    let imageCount = 10000 // per file, split into 5 files\n",
    "    let imageByteSize = 3073    \n",
    "\n",
    "    var bytes: [UInt8] = []\n",
    "    var labels: [Int32] = []\n",
    "\n",
    "    if training == true{\n",
    "        let name = \"data_batch_\\(1).bin\"\n",
    "        let path = \"\\(directory)/cifar-10-batches-bin/\\(name)\"\n",
    "        guard let fileContents = try? Data(contentsOf: URL(fileURLWithPath: path)) else {\n",
    "            print(\"Could not read dataset file: \\(name)\")\n",
    "            exit(-1)\n",
    "        }\n",
    "        guard fileContents.count == 30_730_000 else {\n",
    "            print(\"Dataset file \\(name) should have 30730000 bytes, instead had \\(fileContents.count)\")\n",
    "            exit(-1)\n",
    "        }\n",
    "        for imageIndex in 0..<imageCount {\n",
    "\n",
    "            let baseAddress = imageIndex * imageByteSize\n",
    "            labels.append(Int32(fileContents[baseAddress]))\n",
    "            bytes.append(contentsOf: fileContents[(baseAddress + 1)..<(baseAddress + 3073)])\n",
    "        } \n",
    "        //for i in 1..<6{    \n",
    "        //} \n",
    "\n",
    "    } else {\n",
    "        let name = \"test_batch.bin\"\n",
    "        let path = \"\\(directory)/cifar-10-batches-bin/\\(name)\"\n",
    "        guard let fileContents = try? Data(contentsOf: URL(fileURLWithPath: path)) else {\n",
    "            print(\"Could not read dataset file: \\(name)\")\n",
    "            exit(-1)\n",
    "        }\n",
    "        guard fileContents.count == 30_730_000 else {\n",
    "            print(\"Dataset file \\(name) should have 30730000 bytes, instead had \\(fileContents.count)\")\n",
    "            exit(-1)\n",
    "        }\n",
    "        for imageIndex in 0..<imageCount {\n",
    "\n",
    "            let baseAddress = imageIndex * imageByteSize\n",
    "            labels.append(Int32(fileContents[baseAddress]))\n",
    "            bytes.append(contentsOf: fileContents[(baseAddress + 1)..<(baseAddress + 3073)])\n",
    "        } \n",
    "\n",
    "    }\n",
    "    let labelTensor = Tensor<Int32>(shape: [training ? imageCount : imageCount], scalars: labels)\n",
    "    let images = Tensor<UInt8>(shape: [training ? imageCount : imageCount, 3, 32, 32], scalars: bytes)\n",
    "    // Transpose from the CIFAR-provided N(CHW) to TF's default NHWC.\n",
    "    let imageTensor = Tensor<Float>(images.transposed(permutation: [0, 2, 3, 1]))\n",
    "\n",
    "\n",
    "    return (imageTensor, labelTensor)\n",
    "}\n",
    "\n",
    "func loadCIFARTrainingFiles(bs: Int = 64) -> DataBunch<DataBatch<TF, TI>>  {\n",
    "    let (xTrain,yTrain) = loadCIFARFile(training: true)\n",
    "    let (xValid,yValid)   = loadCIFARFile(training: false)\n",
    "    return DataBunch(train: Dataset(elements: DataBatch(xb:xTrain, yb: yTrain)), \n",
    "                     valid: Dataset(elements: DataBatch(xb:xValid, yb: yValid)),\n",
    "                     trainLen: xTrain.shape[0],\n",
    "                     validLen: xValid.shape[0],\n",
    "                     bs: bs)\n",
    "}\n",
    "\n",
    "let data_cifar = loadCIFARTrainingFiles()\n"
   ]
  },
  {
   "cell_type": "code",
   "execution_count": 5,
   "metadata": {},
   "outputs": [],
   "source": [
    "public extension StringTensor { \n",
    "    func decodePng(channels: Int = 0) -> Tensor<UInt8> {\n",
    "        return _Raw.decodePng(contents: self, channels: Int64(channels))\n",
    "    }\n",
    "}\n",
    "public func openPng(fname: StringTensor) -> TF{\n",
    "    let decodedImg = StringTensor(readFile: fname).decodePng(channels: 3) \n",
    "    let img = Tensor<Float>(decodedImg) / 255.0\n",
    "    return img\n",
    "}\n",
    "let il = ItemList(fromFolder: Path.home/\"swift/cifar10\", extensions: [\"png\"])\n",
    "let sd = SplitData(il) {grandParentSplitter(fName: $0, valid: \"test\")}\n",
    "var procLabel = CategoryProcessor()\n",
    "let sld = makeLabeledData(sd, fromFunc: parentLabeler, procLabel: &procLabel)\n",
    "let rawData = sld.toDataBunch(itemToTensor: pathsToTensor, labelToTensor: intsToTensor, bs: 128) \n",
    "let data = transformData(rawData) { openPng(fname: $0) }\n"
   ]
  },
  {
   "cell_type": "code",
   "execution_count": 11,
   "metadata": {},
   "outputs": [
    {
     "ename": "",
     "evalue": "",
     "output_type": "error",
     "traceback": [
      "error: <Cell 11>:1:1: error: use of unresolved identifier 'data_cifar'\ndata_cifar.train.ds.first(where: { _ in true })!.xb.shape\n^~~~~~~~~~\n\nerror: <Cell 11>:2:13: error: use of unresolved identifier 'data_cifar'\nlet batch = data_cifar.train.oneBatch()!\n            ^~~~~~~~~~\n\n"
     ]
    }
   ],
   "source": [
    "data_cifar.train.ds.first(where: { _ in true })!.xb.shape"
   ]
  },
  {
   "cell_type": "code",
   "execution_count": 10,
   "metadata": {},
   "outputs": [
    {
     "ename": "",
     "evalue": "",
     "output_type": "error",
     "traceback": [
      "error: <Cell 10>:5:42: error: use of unresolved identifier 'cmap'\nplt.imshow(batch.xb[0].makeNumpyArray(), cmap=\"grey\")\n                                         ^~~~\n\n"
     ]
    }
   ],
   "source": [
    "let d = mnistDataBunch(path: Path.home/\"swift\", flat: false, bs: 256)"
   ]
  },
  {
   "cell_type": "code",
   "execution_count": 6,
   "metadata": {},
   "outputs": [
    {
     "data": {
      "text/plain": [
       "<Figure size 432x288 with 0 Axes>"
      ]
     },
     "metadata": {},
     "output_type": "display_data"
    },
    {
     "data": {
      "image/png": "[encoded data removed]",
      "text/plain": [
       "<Figure size 648x648 with 9 Axes>"
      ]
     },
     "metadata": {
      "needs_background": "light"
     },
     "output_type": "display_data"
    }
   ],
   "source": [
    "plt.figure()\n",
    "let batch = data.train.oneBatch()!\n",
    "let labels = batch.yb.scalars.map { procLabel.vocab![Int($0)] }\n",
    "showImages(batch.xb, labels: labels)\n"
   ]
  },
  {
   "cell_type": "code",
   "execution_count": null,
   "metadata": {},
   "outputs": [],
   "source": [
    "//MLP model with 2 hidden layers\n",
    "public struct MyModel: Layer {\n",
    "    public var Conv1:    ConvBN<Float>\n",
    "    public var Conv2:    ConvBN<Float>\n",
    "    public var Conv3:    ConvBN<Float>    \n",
    "    public var pool =    MaxPool2D<Float>(poolSize: (2, 2), strides: (2,2))\n",
    "    public var gpool =   FAGlobalAvgPool2D<Float>()\n",
    "    public var flatten:  Flatten<Float>\n",
    "    public var bn:       BatchNorm<Float>\n",
    "    public var dropout = Dropout<Float>(probability: 0.5)\n",
    "    public var fc1:      FADense<Float>\n",
    "    public var fc2:      FADense<Float>\n",
    "    public var out:      FADense<Float>\n",
    "\n",
    "    \n",
    "    public init(cIn: Int, nOut: Int, filterIn: [Int]){\n",
    "        Conv1   = ConvBN(cIn, filterIn[0], ks: 5, stride: 1)\n",
    "        Conv2   = ConvBN(filterIn[0], filterIn[1], ks: 5, stride: 1)\n",
    "        Conv3   = ConvBN(filterIn[1], filterIn[2], ks: 5, stride: 1)\n",
    "        flatten = Flatten()\n",
    "        fc1     = FADense(filterIn.last!, 512, activation: relu)\n",
    "        bn      = BatchNorm(featureCount: 512)\n",
    "        fc2     = FADense(512, 512, activation: relu)\n",
    "        out     = FADense(512, nOut)\n",
    "    }\n",
    "    \n",
    "    @differentiable\n",
    "    public func callAsFunction(_ input: TF) -> TF {\n",
    "        let C = input.compose(Conv1, pool, Conv2, pool, Conv3, gpool)\n",
    "        let h1 = C.compose(flatten,fc1, bn, dropout)\n",
    "        let h2 = h1.compose(fc2, bn, dropout, out)\n",
    "        return h2\n",
    "        //return out(bn(hidden2(bn(hidden1(flatten(pool(Conv3(pool(Conv2(pool(Conv1(input))))))))))))\n",
    "        //return input.compose(Conv1,pool,Conv2,pool,flatten,hidden1,bn,hidden2,bn,out)\n",
    "    }\n",
    "}\n"
   ]
  },
  {
   "cell_type": "code",
   "execution_count": null,
   "metadata": {},
   "outputs": [],
   "source": [
    "func modelInit() -> MyModel { return MyModel(cIn: 3, nOut: 10, filterIn: [64,128,256]) }"
   ]
  },
  {
   "cell_type": "code",
   "execution_count": null,
   "metadata": {},
   "outputs": [],
   "source": [
    "let mean = Tensor<Float>([0.485, 0.456, 0.406])\n",
    "let std = Tensor<Float>([0.229, 0.224, 0.225])\n",
    "let optFunc: (MyModel) -> StatefulOptimizer<MyModel> = adamOpt(lr: 1e-3, mom: 0.9, beta: 0.99, wd: 1e-2, eps: 1e-6)\n",
    "let learner = Learner(data: data_cifar, lossFunc: crossEntropy, optFunc: optFunc, modelInit: modelInit)\n",
    "let recorder = learner.makeDefaultDelegates(metrics: [accuracy])\n",
    "learner.addDelegate(learner.makeNormalize(mean: mean, std: std))"
   ]
  },
  {
   "cell_type": "code",
   "execution_count": null,
   "metadata": {},
   "outputs": [],
   "source": [
    "modelInit()"
   ]
  },
  {
   "cell_type": "code",
   "execution_count": null,
   "metadata": {},
   "outputs": [],
   "source": [
    "let LR_rec = learner.lrFind()"
   ]
  },
  {
   "cell_type": "code",
   "execution_count": null,
   "metadata": {},
   "outputs": [],
   "source": [
    "LR_rec.plotLRFinder()"
   ]
  },
  {
   "cell_type": "code",
   "execution_count": null,
   "metadata": {},
   "outputs": [],
   "source": [
    "var procLabel = CategoryProcessor()\n",
    "let batch = data_cifar.train.oneBatch()!\n",
    "showImages(batch.xb)"
   ]
  },
  {
   "cell_type": "code",
   "execution_count": 9,
   "metadata": {},
   "outputs": [
    {
     "ename": "",
     "evalue": "",
     "output_type": "error",
     "traceback": [
      "error: <Cell 9>:4:42: error: use of unresolved identifier 'cmap'\nplt.imshow(batch.xb[0].makeNumpyArray(), cmap=\"grey\")\n                                         ^~~~\n\n"
     ]
    }
   ],
   "source": []
  },
  {
   "cell_type": "code",
   "execution_count": null,
   "metadata": {},
   "outputs": [],
   "source": [
    "learner.addOneCycleDelegates(1e-3, pctStart: 0.3)\n",
    "try learner.fit(10)"
   ]
  },
  {
   "cell_type": "code",
   "execution_count": null,
   "metadata": {},
   "outputs": [],
   "source": [
    "let y = Array(0..<recorder_nest_l2.losses.count)\n",
    "let sgd: Array<Float>     = recorder_sgd.losses.compactMap{$0.scalar}\n",
    "let nest: Array<Float>    = recorder_nest.losses.compactMap{$0.scalar}\n",
    "let nest_l1: Array<Float> = recorder_nest_l1.losses.compactMap{$0.scalar}\n",
    "let nest_l2: Array<Float> = recorder_nest_l2.losses.compactMap{$0.scalar}\n"
   ]
  },
  {
   "cell_type": "code",
   "execution_count": null,
   "metadata": {},
   "outputs": [],
   "source": [
    "func smooth_curve(points:Array<Float>, factor:Float=0.9) -> Array<Float> {\n",
    "    var smoothed_points: Array<Float> = Array()\n",
    "    let x1 = points.first\n",
    "    smoothed_points.append(x1!)\n",
    "    var points_ = points.dropFirst()\n",
    "    for point in points_{\n",
    "            let previous = smoothed_points.last\n",
    "            let smth = previous! * factor + point * (1 - factor)\n",
    "            smoothed_points.append(smth)\n",
    "    }\n",
    "        \n",
    "    return smoothed_points\n",
    "}\n",
    "    "
   ]
  },
  {
   "cell_type": "code",
   "execution_count": null,
   "metadata": {},
   "outputs": [],
   "source": [
    "plt.figure(figsize: [15, 10])\n",
    "let i = 0\n",
    "let n = 5000\n",
    "let y2 = Array(y[i..<n])\n",
    "plt.plot(y2,smooth_curve(points: Array(sgd[i..<n])), label:\"SGD\")\n",
    "plt.plot(y2,smooth_curve(points: Array(nest[i..<n])), label:\"SGD Nesterov, m=0.9\")\n",
    "plt.plot(y2,smooth_curve(points: Array(nest_l1[i..<n])), label:\"SGD Nesterov, m=0.9, L1\")\n",
    "plt.plot(y2,smooth_curve(points: Array(nest_l2[i..<n])), label:\"SGD Nesterov, m=0.9, L2\")\n",
    "plt.legend()\n",
    "plt.xlabel(\"Iterations\")\n",
    "plt.ylabel(\"Loss\")\n",
    "plt.title(\"MLP 512-512 MNIST\")\n",
    "plt.show()"
   ]
  }
 ],
 "metadata": {
  "kernelspec": {
   "display_name": "Swift",
   "language": "swift",
   "name": "swift"
  },
  "language_info": {
   "file_extension": ".swift",
   "mimetype": "text/x-swift",
   "name": "swift",
   "version": ""
  }
 },
 "nbformat": 4,
 "nbformat_minor": 2
}
