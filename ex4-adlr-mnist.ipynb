{
 "cells": [
  {
   "cell_type": "code",
   "execution_count": 1,
   "metadata": {},
   "outputs": [
    {
     "name": "stdout",
     "output_type": "stream",
     "text": [
      "Installing packages:\n",
      "\t.package(path: \"/home/mlk/swift/swiftai\")\n",
      "\t\tSwiftAI\n",
      "With SwiftPM flags: []\n",
      "Working in: /tmp/tmp5dyitgh0/swift-install\n",
      "[1/2] Compiling jupyterInstalledPackages jupyterInstalledPackages.swift\n",
      "[2/3] Merging module jupyterInstalledPackages\n",
      "Initializing Swift...\n",
      "Installation complete!\n"
     ]
    }
   ],
   "source": [
    "%install-location $cwd/swift-install\n",
    "%install '.package(path: \"$cwd/swiftai\")' SwiftAI"
   ]
  },
  {
   "cell_type": "code",
   "execution_count": 2,
   "metadata": {},
   "outputs": [],
   "source": [
    "import SwiftAI\n",
    "import TensorFlow\n",
    "import Python\n",
    "%include \"EnableIPythonDisplay.swift\"\n",
    "IPythonDisplay.shell.enable_matplotlib(\"inline\")\n",
    "let plt = Python.import(\"matplotlib.pyplot\")\n",
    "let np = Python.import(\"numpy\")\n",
    "import Foundation\n",
    "import Just\n",
    "import Path"
   ]
  },
  {
   "cell_type": "code",
   "execution_count": 3,
   "metadata": {},
   "outputs": [],
   "source": [
    "let data = mnistDataBunch(path: Path.home/\"swift\", flat: false, bs: 256)"
   ]
  },
  {
   "cell_type": "code",
   "execution_count": 4,
   "metadata": {},
   "outputs": [
    {
     "data": {
      "text/plain": [
       "▿ [256, 28, 28, 1]\n",
       "  ▿ dimensions : 4 elements\n",
       "    - 0 : 256\n",
       "    - 1 : 28\n",
       "    - 2 : 28\n",
       "    - 3 : 1\n"
      ]
     },
     "execution_count": 4,
     "metadata": {},
     "output_type": "execute_result"
    }
   ],
   "source": [
    "data.train.ds.first(where: { _ in true })!.xb.shape"
   ]
  },
  {
   "cell_type": "code",
   "execution_count": 5,
   "metadata": {},
   "outputs": [
    {
     "ename": "",
     "evalue": "",
     "output_type": "error",
     "traceback": [
      "error: <Cell 5>:3:37: error: use of unresolved identifier 'procLabel'\nlet labels = batch.yb.scalars.map { procLabel.vocab![Int($0)] }\n                                    ^~~~~~~~~\n\n"
     ]
    }
   ],
   "source": []
  },
  {
   "cell_type": "code",
   "execution_count": 6,
   "metadata": {},
   "outputs": [],
   "source": [
    "public struct MyModel: Layer {\n",
    "    public var Conv1:    ConvBN<Float>\n",
    "    public var Conv2:    ConvBN<Float>\n",
    "    public var Conv3:    ConvBN<Float>    \n",
    "    public var Conv4:    ConvBN<Float>\n",
    "    public var Conv5:    ConvBN<Float>\n",
    "    public var Conv6:    ConvBN<Float>   \n",
    "    public var Conv7:    ConvBN<Float>\n",
    "    public var Conv8:    ConvBN<Float>\n",
    "    public var pool =    MaxPool2D<Float>(poolSize: (2, 2), strides: (2,2))\n",
    "    public var gpool =   GlobalMaxPool2D<Float>()\n",
    "    public var flatten:  Flatten<Float>\n",
    "    public var dropout = Dropout<Float>(probability: 0.1)\n",
    "    public var fc1:      FADense<Float>\n",
    "    public var out:      FADense<Float>\n",
    "\n",
    "    public init(cIn: Int, nOut: Int, filterIn: [Int]){\n",
    "        Conv1   = ConvBN(cIn        , filterIn[0], ks: 3, stride: 1, bn_mom: 0.05) //conv3-64\n",
    "        Conv2   = ConvBN(filterIn[0], filterIn[0], ks: 3, stride: 1, bn_mom: 0.05) //conv64-64\n",
    "        Conv3   = ConvBN(filterIn[0], filterIn[1], ks: 3, stride: 1, bn_mom: 0.05) //conv64-128\n",
    "        Conv4   = ConvBN(filterIn[1], filterIn[1], ks: 3, stride: 1, bn_mom: 0.05) //conv128-128\n",
    "        Conv5   = ConvBN(filterIn[1], filterIn[2], ks: 3, stride: 1, bn_mom: 0.05) //conv128-256\n",
    "        Conv6   = ConvBN(filterIn[2], filterIn[2], ks: 3, stride: 1, bn_mom: 0.05) //conv256-256\n",
    "        Conv7   = ConvBN(filterIn[2], filterIn[3], ks: 3, stride: 1, bn_mom: 0.05) //conv256-512\n",
    "        Conv8   = ConvBN(filterIn[3], filterIn[3], ks: 3, stride: 1, bn_mom: 0.05) //conv512-512\n",
    "        flatten = Flatten()\n",
    "        fc1     = FADense(512,256)\n",
    "        out     = FADense(256, nOut)\n",
    "    }\n",
    "    \n",
    "    @differentiable\n",
    "    public func callAsFunction(_ input: TF) -> TF {\n",
    "        let x1 = input.compose(Conv1,Conv2,pool,dropout)\n",
    "        let x2 = x1.compose(Conv3,Conv4,pool,dropout)\n",
    "        let x3 = x2.compose(Conv5,Conv6,Conv6,pool,dropout)\n",
    "        let x4 = x3.compose(Conv7,Conv8,Conv8,pool,dropout)\n",
    "        let x5 = x4.compose(Conv8,Conv8,Conv8,gpool,dropout)\n",
    "        let x6 = x5.compose(fc1,dropout,out)\n",
    "        return x6\n",
    "    }\n",
    "}\n"
   ]
  },
  {
   "cell_type": "code",
   "execution_count": 7,
   "metadata": {},
   "outputs": [],
   "source": [
    "func modelInit() -> MyModel { return MyModel(cIn: 3, nOut: 10, filterIn: [64,128,256,512]) }"
   ]
  },
  {
   "cell_type": "code",
   "execution_count": 8,
   "metadata": {},
   "outputs": [],
   "source": [
    "let mean = Tensor<Float>([0.485, 0.456, 0.406])\n",
    "let std = Tensor<Float>([0.229, 0.224, 0.225])\n",
    "let optFunc: (MyModel) -> StatefulOptimizer<MyModel> = adamOpt(lr: 1e-3, mom: 0.9, beta: 0.99, wd: 2e-3, eps: 1e-6)\n",
    "let learner = Learner(data: data, lossFunc: crossEntropy, optFunc: optFunc, modelInit: modelInit)\n",
    "let recorder = learner.makeDefaultDelegates(metrics: [accuracy])\n",
    "learner.addDelegate(learner.makeNormalize(mean: mean, std: std))\n"
   ]
  },
  {
   "cell_type": "code",
   "execution_count": 9,
   "metadata": {},
   "outputs": [
    {
     "name": "stdout",
     "output_type": "stream",
     "text": [
      "Epoch 0: [36.6072, 0.5635]                                                      \n",
      "Epoch 1: [4.910032, 0.808]                                                      \n",
      "Epoch 2: [0.562632, 0.9719]                                                     \n",
      "Epoch 3: [1.7795445, 0.893]                                                     \n",
      "Epoch 4: [0.3978503, 0.9861]                                                    \n",
      "Epoch 5: [0.37514982, 0.9845]                                                   \n",
      "Epoch 6: [0.47824013, 0.9853]                                                   \n",
      "Epoch 7: [1.076728, 0.962]                                                      \n",
      "Epoch 8: [0.32562453, 0.9899]                                                   \n",
      "Epoch 9: [0.26002416, 0.9909]                                                   \n",
      "                                                                             \r"
     ]
    }
   ],
   "source": [
    "learner.fit(10)"
   ]
  },
  {
   "cell_type": "code",
   "execution_count": 10,
   "metadata": {},
   "outputs": [
    {
     "data": {
      "image/png": "[encoded data removed]",
      "text/plain": [
       "<Figure size 432x288 with 1 Axes>"
      ]
     },
     "metadata": {
      "needs_background": "light"
     },
     "output_type": "display_data"
    }
   ],
   "source": [
    "recorder.plotLosses()"
   ]
  },
  {
   "cell_type": "code",
   "execution_count": null,
   "metadata": {},
   "outputs": [],
   "source": [
    "learner.addOneCycleDelegates(1e-3, pctStart: 0.3)\n",
    "learner.fit(3)"
   ]
  }
 ],
 "metadata": {
  "kernelspec": {
   "display_name": "Swift",
   "language": "swift",
   "name": "swift"
  },
  "language_info": {
   "file_extension": ".swift",
   "mimetype": "text/x-swift",
   "name": "swift",
   "version": ""
  }
 },
 "nbformat": 4,
 "nbformat_minor": 2
}
