{
 "cells": [
  {
   "cell_type": "code",
   "execution_count": 1,
   "metadata": {
    "collapsed": true
   },
   "outputs": [
    {
     "name": "stdout",
     "output_type": "stream",
     "text": [
      "Installing packages:\n",
      "\t.package(path: \"/home/mlk/swift/swiftai\")\n",
      "\t\tSwiftAI\n",
      "With SwiftPM flags: []\n",
      "Working in: /tmp/tmp1g9b41ql/swift-install\n",
      "warning: /home/mlk/swift/usr/bin/swiftc: /home/mlk/anaconda3/envs/fai/lib/libuuid.so.1: no version information available (required by /home/mlk/swift/usr/bin/swiftc)\n",
      "/home/mlk/swift/usr/bin/swift: /home/mlk/anaconda3/envs/fai/lib/libuuid.so.1: no version information available (required by /home/mlk/swift/usr/bin/swift)\n",
      "warning: /home/mlk/swift/usr/bin/swiftc: /home/mlk/anaconda3/envs/fai/lib/libuuid.so.1: no version information available (required by /home/mlk/swift/usr/bin/swiftc)\n",
      "/home/mlk/swift/usr/bin/swift: /home/mlk/anaconda3/envs/fai/lib/libuuid.so.1: no version information available (required by /home/mlk/swift/usr/bin/swift)\n",
      "warning: /home/mlk/swift/usr/bin/swiftc: /home/mlk/anaconda3/envs/fai/lib/libuuid.so.1: no version information available (required by /home/mlk/swift/usr/bin/swiftc)\n",
      "/home/mlk/swift/usr/bin/swift: /home/mlk/anaconda3/envs/fai/lib/libuuid.so.1: no version information available (required by /home/mlk/swift/usr/bin/swift)\n",
      "warning: /home/mlk/swift/usr/bin/swiftc: /home/mlk/anaconda3/envs/fai/lib/libuuid.so.1: no version information available (required by /home/mlk/swift/usr/bin/swiftc)\n",
      "/home/mlk/swift/usr/bin/swift: /home/mlk/anaconda3/envs/fai/lib/libuuid.so.1: no version information available (required by /home/mlk/swift/usr/bin/swift)\n",
      "/home/mlk/swift/usr/bin/swiftc: /home/mlk/anaconda3/envs/fai/lib/libuuid.so.1: no version information available (required by /home/mlk/swift/usr/bin/swiftc)\n",
      "/home/mlk/swift/usr/bin/swiftc: /home/mlk/anaconda3/envs/fai/lib/libuuid.so.1: no version information available (required by /home/mlk/swift/usr/bin/swiftc)[1/2] Compiling jupyterInstalledPackages jupyterInstalledPackages.swift\n",
      "/home/mlk/swift/usr/bin/swift: /home/mlk/anaconda3/envs/fai/lib/libuuid.so.1: no version information available (required by /home/mlk/swift/usr/bin/swift)\n",
      "[2/3] Merging module jupyterInstalledPackages\n",
      "/home/mlk/swift/usr/bin/swift: /home/mlk/anaconda3/envs/fai/lib/libuuid.so.1: no version information available (required by /home/mlk/swift/usr/bin/swift)\n",
      "Initializing Swift...\n",
      "Installation complete!\n"
     ]
    }
   ],
   "source": [
    "%install-location $cwd/swift-install\n",
    "%install '.package(path: \"$cwd/swiftai\")' SwiftAI"
   ]
  },
  {
   "cell_type": "code",
   "execution_count": 2,
   "metadata": {},
   "outputs": [],
   "source": [
    "import SwiftAI\n",
    "import TensorFlow\n",
    "import Python\n",
    "%include \"EnableIPythonDisplay.swift\"\n",
    "IPythonDisplay.shell.enable_matplotlib(\"inline\")\n",
    "let plt = Python.import(\"matplotlib.pyplot\")\n",
    "let np = Python.import(\"numpy\")"
   ]
  },
  {
   "cell_type": "code",
   "execution_count": 3,
   "metadata": {},
   "outputs": [],
   "source": [
    "import Foundation\n",
    "import Just\n",
    "import Path"
   ]
  },
  {
   "cell_type": "code",
   "execution_count": 4,
   "metadata": {},
   "outputs": [],
   "source": [
    "public func FacesDataBunch(path: Path = mnistPath, bs: Int = 20)\n",
    "   -> DataBunch<DataBatch<TF, TI>> {\n",
    "    let tr_x = np.load((path/\"trainX.npy\").string).astype(np.float32) / 255.0\n",
    "    let tr_y = np.load((path/\"trainY.npy\").string).astype(np.int32)\n",
    "    let ts_x = np.load((path/\"testX.npy\").string).astype(np.float32) / 255.0\n",
    "    let ts_y = np.load((path/\"testY.npy\").string).astype(np.int32)\n",
    "    let xTrain = Tensor<Float>(ShapedArray<Float>(numpy: tr_x)!)\n",
    "    let yTrain = Tensor<Int32>(ShapedArray<Int32>(numpy: tr_y)!)\n",
    "    let xValid = Tensor<Float>(ShapedArray<Float>(numpy: ts_x)!)\n",
    "    let yValid = Tensor<Int32>(ShapedArray<Int32>(numpy: ts_y)!)\n",
    "    return DataBunch(train: Dataset(elements: DataBatch(xb:xTrain, yb: yTrain)), \n",
    "                     valid: Dataset(elements: DataBatch(xb:xValid, yb: yValid)),\n",
    "                     trainLen: xTrain.shape[0],\n",
    "                     validLen: xValid.shape[0],\n",
    "                     bs: bs)\n",
    "}\n"
   ]
  },
  {
   "cell_type": "code",
   "execution_count": 5,
   "metadata": {},
   "outputs": [],
   "source": [
    "let d = FacesDataBunch(path: Path.home/\"swift\",bs: 40)"
   ]
  },
  {
   "cell_type": "code",
   "execution_count": 6,
   "metadata": {},
   "outputs": [
    {
     "data": {
      "text/plain": [
       "▿ [40, 10304]\n",
       "  ▿ dimensions : 2 elements\n",
       "    - 0 : 40\n",
       "    - 1 : 10304\n"
      ]
     },
     "execution_count": 6,
     "metadata": {},
     "output_type": "execute_result"
    }
   ],
   "source": [
    "d.train.ds.first(where: { _ in true })!.xb.shape"
   ]
  },
  {
   "cell_type": "code",
   "execution_count": 9,
   "metadata": {},
   "outputs": [],
   "source": [
    "//MLP model with 2 hidden layers\n",
    "public struct MyModel: Layer {\n",
    "    public var hidden1: FADense<Float>\n",
    "    public var hidden2: FADense<Float>\n",
    "    public var out:     FADense<Float>\n",
    "    \n",
    "    public init(nIn: Int, nHid1: Int, nHid2: Int, nOut: Int){\n",
    "        hidden1 = FADense(nIn, nHid1, activation: relu)\n",
    "        hidden2 = FADense(nHid1, nHid2, activation: relu)\n",
    "        out =     FADense(nHid2, nOut)\n",
    "    }\n",
    "    \n",
    "    @differentiable\n",
    "    public func callAsFunction(_ input: TF) -> TF {\n",
    "        return out(hidden2(hidden1(input)))\n",
    "    }\n",
    "}\n"
   ]
  },
  {
   "cell_type": "code",
   "execution_count": 10,
   "metadata": {},
   "outputs": [],
   "source": [
    "func modelInit() -> MyModel { return MyModel(nIn: 10304, nHid1: 2048,nHid2: 512, nOut: 20) }"
   ]
  },
  {
   "cell_type": "code",
   "execution_count": 11,
   "metadata": {},
   "outputs": [],
   "source": [
    "public let FacesStats = (mean: TF(0.4617096), std: TF(0.20259255))"
   ]
  },
  {
   "cell_type": "code",
   "execution_count": 12,
   "metadata": {},
   "outputs": [],
   "source": [
    "// Source: http://cs231n.github.io/neural-networks-3/#sgd\n",
    "\n",
    "public extension StateKeys {\n",
    "    static let prevGrad = \"previousAverageGrad\"\n",
    "}\n",
    "\n",
    "public struct PreviousAverageGrad: StatDelegate {\n",
    "    public var defaultHPs: [String:Float] { return [:] }\n",
    "    public var name: String { return StateKeys.prevGrad }\n",
    "    public func update(_ state: inout [String: TF], p: TF, 𝛁p: TF, hps: inout [String:Float]) {\n",
    "        state[StateKeys.prevGrad]! = state[StateKeys.avgGrad]!\n",
    "    }\n",
    "}\n",
    "\n",
    "public struct AvgGrad: StatDelegate {\n",
    "    public var defaultHPs: [String: Float] { return [HyperParams.mom: 0.9] }\n",
    "    public let dampened: Bool\n",
    "    public init(dampened: Bool = false) { self.dampened = dampened }\n",
    "    public var name: String { return StateKeys.avgGrad }\n",
    "    public func update(_ state: inout [String: TF], p: TF, 𝛁p: TF, hps: inout [String:Float]) {\n",
    "        state[StateKeys.avgGrad]! *= hps[HyperParams.mom]!\n",
    "        hps[HyperParams.momDamp] = 1.0 - (dampened ? hps[HyperParams.mom]! : 0.0)\n",
    "        state[StateKeys.avgGrad]! -= hps[HyperParams.lr]! * 𝛁p\n",
    "    }\n",
    "}\n",
    "\n",
    "public struct NesterovStep: StepDelegate {\n",
    "    public var defaultHPs: [String: Float] { return [HyperParams.mom: 0.9]}\n",
    "    public init() {}\n",
    "    public func update(_ p: inout TF, 𝛁p: inout TF, \n",
    "                       state: [String : TF], \n",
    "                       hps: inout [String : Float]){\n",
    "        p += -hps[HyperParams.mom]! * state[StateKeys.prevGrad]! + ( 1 + hps[HyperParams.mom]!) * state[StateKeys.avgGrad]!\n",
    "    }\n",
    "}\n"
   ]
  },
  {
   "cell_type": "code",
   "execution_count": 13,
   "metadata": {},
   "outputs": [],
   "source": [
    "public struct L1: StepDelegate {\n",
    "    public var defaultHPs: [String: Float] { return [HyperParams.wd: 0] }\n",
    "    public init() {}\n",
    "    public func update(_ p: inout TF, 𝛁p: inout TF, state: [String:TF], hps: inout [String:Float]) {\n",
    "        𝛁p += hps[HyperParams.wd]! * abs(p).sum()\n",
    "    }\n",
    "}\n",
    "\n",
    "public struct L2: StepDelegate {\n",
    "    public var defaultHPs: [String: Float] { return [HyperParams.wd: 0] }\n",
    "    public init() {}\n",
    "    public func update(_ p: inout TF, 𝛁p: inout TF, state: [String:TF], hps: inout [String:Float]) {\n",
    "        𝛁p += hps[HyperParams.wd]! * p\n",
    "    }\n",
    "}"
   ]
  },
  {
   "cell_type": "markdown",
   "metadata": {},
   "source": [
    "# MLP 1 with SGD"
   ]
  },
  {
   "cell_type": "code",
   "execution_count": 14,
   "metadata": {},
   "outputs": [],
   "source": [
    "func optFunc(_ model: MyModel) -> SGD<MyModel> { return SGD(for: model, learningRate: 0.01)}\n",
    "\n",
    "let learner = Learner(\n",
    "                    data: d, \n",
    "                    lossFunc: crossEntropy, \n",
    "                    optFunc: optFunc, \n",
    "                    modelInit: modelInit)\n",
    "\n",
    "let recorder_sgd = learner.makeDefaultDelegates(metrics: [accuracy])\n",
    "learner.addDelegates([learner.makeNormalize(mean: FacesStats.mean, std: FacesStats.std)])"
   ]
  },
  {
   "cell_type": "code",
   "execution_count": 15,
   "metadata": {},
   "outputs": [
    {
     "name": "stdout",
     "output_type": "stream",
     "text": [
      "Epoch 0: [1.8539932, 0.71875]                                              \n",
      "Epoch 1: [1.2174962, 0.84375]                                             \n",
      "Epoch 2: [0.88190305, 0.8875]                                             \n",
      "Epoch 3: [0.6955739, 0.9125]                                              \n",
      "Epoch 4: [0.6137949, 0.9125]                                              \n",
      "Epoch 5: [0.5422925, 0.93125]                                             \n",
      "Epoch 6: [0.4890307, 0.93125]                                             \n",
      "Epoch 7: [0.4543429, 0.9375]                                              \n",
      "Epoch 8: [0.43189716, 0.9375]                                             \n",
      "Epoch 9: [0.40737504, 0.93125]                                            \n",
      "Epoch 10: [0.39009762, 0.9375]                                            \n",
      "Epoch 11: [0.37591353, 0.94375]                                           \n",
      "Epoch 12: [0.36358482, 0.94375]                                           \n",
      "Epoch 13: [0.35601577, 0.9375]                                            \n",
      "Epoch 14: [0.3462112, 0.9375]                                             \n",
      "Epoch 15: [0.33841628, 0.94375]                                           \n",
      "Epoch 16: [0.32870784, 0.94375]                                           \n",
      "Epoch 17: [0.32355347, 0.9375]                                            \n",
      "Epoch 18: [0.31990135, 0.94375]                                           \n",
      "Epoch 19: [0.31502113, 0.94375]                                           \n",
      "Epoch 20: [0.30869374, 0.9375]                                            \n",
      "Epoch 21: [0.30557314, 0.94375]                                           \n",
      "Epoch 22: [0.3015034, 0.94375]                                            \n",
      "Epoch 23: [0.2983247, 0.94375]                                            \n",
      "Epoch 24: [0.29491216, 0.94375]                                           \n",
      "                                                                          \r"
     ]
    }
   ],
   "source": [
    "learner.fit(25)"
   ]
  },
  {
   "cell_type": "code",
   "execution_count": 16,
   "metadata": {
    "scrolled": true
   },
   "outputs": [
    {
     "data": {
      "image/png": "[encoded data removed]",
      "text/plain": [
       "<Figure size 432x288 with 1 Axes>"
      ]
     },
     "metadata": {
      "needs_background": "light"
     },
     "output_type": "display_data"
    }
   ],
   "source": [
    "recorder_sgd.plotLosses()"
   ]
  },
  {
   "cell_type": "markdown",
   "metadata": {},
   "source": [
    "# MLP 2 with  Nesterov"
   ]
  },
  {
   "cell_type": "code",
   "execution_count": 20,
   "metadata": {},
   "outputs": [],
   "source": [
    "func optFunc(_ model: MyModel) -> StatefulOptimizer<MyModel> {\n",
    "    return StatefulOptimizer(for: model, \n",
    "                             steppers: [NesterovStep()], \n",
    "                             stats: [AvgGrad(),PreviousAverageGrad()], \n",
    "                             hps: [HyperParams.lr: 0.01])\n",
    "}\n",
    "let learner_nest = Learner(\n",
    "                    data: d, \n",
    "                    lossFunc: crossEntropy, \n",
    "                    optFunc: optFunc, \n",
    "                    modelInit: modelInit)\n",
    "\n",
    "let recorder_nest = learner_nest.makeDefaultDelegates(metrics: [accuracy])\n",
    "learner_nest.addDelegates([learner_nest.makeNormalize(mean: FacesStats.mean, std: FacesStats.std)])"
   ]
  },
  {
   "cell_type": "code",
   "execution_count": 21,
   "metadata": {},
   "outputs": [
    {
     "name": "stdout",
     "output_type": "stream",
     "text": [
      "Epoch 0: [1.845933, 0.58125]                                              \n",
      "Epoch 1: [1.1710975, 0.7875]                                              \n",
      "Epoch 2: [0.9157022, 0.86875]                                             \n",
      "Epoch 3: [0.6650981, 0.91875]                                             \n",
      "Epoch 4: [0.5620896, 0.93125]                                             \n",
      "Epoch 5: [0.49738646, 0.9375]                                             \n",
      "Epoch 6: [0.45163232, 0.9375]                                             \n",
      "Epoch 7: [0.4229123, 0.9375]                                              \n",
      "Epoch 8: [0.39254785, 0.94375]                                            \n",
      "Epoch 9: [0.37256137, 0.94375]                                            \n",
      "Epoch 10: [0.3576217, 0.94375]                                            \n",
      "Epoch 11: [0.34487, 0.94375]                                              \n",
      "Epoch 12: [0.3319228, 0.94375]                                            \n",
      "Epoch 13: [0.32004994, 0.94375]                                           \n",
      "Epoch 14: [0.31129423, 0.94375]                                           \n",
      "Epoch 15: [0.30413684, 0.94375]                                           \n",
      "Epoch 16: [0.2990188, 0.94375]                                            \n",
      "Epoch 17: [0.29271734, 0.94375]                                           \n",
      "Epoch 18: [0.2866975, 0.94375]                                            \n",
      "Epoch 19: [0.28270283, 0.94375]                                           \n",
      "Epoch 20: [0.27829543, 0.94375]                                           \n",
      "Epoch 21: [0.27550918, 0.94375]                                           \n",
      "Epoch 22: [0.27066725, 0.94375]                                           \n",
      "Epoch 23: [0.26711297, 0.94375]                                           \n",
      "Epoch 24: [0.26390675, 0.94375]                                           \n",
      "                                                                          \r"
     ]
    }
   ],
   "source": [
    "try! learner_nest.fit(25)"
   ]
  },
  {
   "cell_type": "code",
   "execution_count": 22,
   "metadata": {},
   "outputs": [
    {
     "data": {
      "image/png": "[encoded data removed]",
      "text/plain": [
       "<Figure size 432x288 with 1 Axes>"
      ]
     },
     "metadata": {
      "needs_background": "light"
     },
     "output_type": "display_data"
    }
   ],
   "source": [
    "recorder_nest.plotLosses()"
   ]
  },
  {
   "cell_type": "markdown",
   "metadata": {},
   "source": [
    "# MLP 3 with Nesterov and L1"
   ]
  },
  {
   "cell_type": "code",
   "execution_count": 23,
   "metadata": {},
   "outputs": [],
   "source": [
    "//Optimizer with Nesterov step and L1 regularizer\n",
    "func optFunc(_ model: MyModel) -> StatefulOptimizer<MyModel> {\n",
    "    return StatefulOptimizer(for: model, \n",
    "                             steppers: [NesterovStep(), L1()], \n",
    "                             stats: [AvgGrad(),PreviousAverageGrad()], \n",
    "                             hps: [HyperParams.lr: 0.01])\n",
    "}\n",
    "\n",
    "let learner_nest_l1 = Learner(\n",
    "                    data: d, \n",
    "                    lossFunc: crossEntropy, \n",
    "                    optFunc: optFunc, \n",
    "                    modelInit: modelInit)\n",
    "\n",
    "let recorder_nest_l1 = learner_nest_l1.makeDefaultDelegates(metrics: [accuracy])\n",
    "learner_nest_l1.addDelegates([learner_nest_l1.makeNormalize(mean: FacesStats.mean, std: FacesStats.std)])"
   ]
  },
  {
   "cell_type": "code",
   "execution_count": 24,
   "metadata": {},
   "outputs": [
    {
     "name": "stdout",
     "output_type": "stream",
     "text": [
      "Epoch 0: [1.7861443, 0.61875]                                             \n",
      "Epoch 1: [1.1304924, 0.85625]                                             \n",
      "Epoch 2: [0.8778175, 0.8625]                                              \n",
      "Epoch 3: [0.6761229, 0.9]                                                 \n",
      "Epoch 4: [0.57784194, 0.9125]                                             \n",
      "Epoch 5: [0.5132065, 0.91875]                                             \n",
      "Epoch 6: [0.46454722, 0.93125]                                            \n",
      "Epoch 7: [0.42886433, 0.9375]                                             \n",
      "Epoch 8: [0.40958452, 0.9375]                                             \n",
      "Epoch 9: [0.38863173, 0.9375]                                             \n",
      "Epoch 10: [0.36487895, 0.9375]                                            \n",
      "Epoch 11: [0.35301787, 0.9375]                                            \n",
      "Epoch 12: [0.34395805, 0.9375]                                            \n",
      "Epoch 13: [0.33405334, 0.9375]                                            \n",
      "Epoch 14: [0.32463422, 0.9375]                                            \n",
      "Epoch 15: [0.31601423, 0.9375]                                            \n",
      "Epoch 16: [0.30962425, 0.9375]                                            \n",
      "Epoch 17: [0.30320805, 0.9375]                                            \n",
      "Epoch 18: [0.29665047, 0.9375]                                            \n",
      "Epoch 19: [0.29220644, 0.9375]                                            \n",
      "Epoch 20: [0.28883475, 0.9375]                                            \n",
      "Epoch 21: [0.28544846, 0.9375]                                            \n",
      "Epoch 22: [0.28137335, 0.9375]                                            \n",
      "Epoch 23: [0.27795047, 0.9375]                                            \n",
      "Epoch 24: [0.27567613, 0.9375]                                            \n",
      "                                                                          \r"
     ]
    }
   ],
   "source": [
    "learner_nest_l1.fit(25)"
   ]
  },
  {
   "cell_type": "code",
   "execution_count": 25,
   "metadata": {},
   "outputs": [
    {
     "data": {
      "image/png": "[encoded data removed]",
      "text/plain": [
       "<Figure size 432x288 with 1 Axes>"
      ]
     },
     "metadata": {
      "needs_background": "light"
     },
     "output_type": "display_data"
    }
   ],
   "source": [
    "recorder_nest_l1.plotLosses()"
   ]
  },
  {
   "cell_type": "markdown",
   "metadata": {},
   "source": [
    "# MLP 4 with Nesterov and L2"
   ]
  },
  {
   "cell_type": "code",
   "execution_count": 26,
   "metadata": {},
   "outputs": [],
   "source": [
    "func SGD_nest_L2(_ model: MyModel) -> StatefulOptimizer<MyModel> {\n",
    "    return StatefulOptimizer(for: model, \n",
    "                             steppers: [NesterovStep(), L2()], \n",
    "                             stats: [AvgGrad(),PreviousAverageGrad()], \n",
    "                             hps: [HyperParams.lr: 0.01])\n",
    "}\n",
    "\n",
    "let learner_nest_l2 = Learner(\n",
    "                    data: d, \n",
    "                    lossFunc: crossEntropy, \n",
    "                    optFunc: SGD_nest_L2, \n",
    "                    modelInit: modelInit)\n",
    "\n",
    "let recorder_nest_l2 = learner_nest_l2.makeDefaultDelegates(metrics: [accuracy])\n",
    "learner_nest_l2.addDelegates([learner_nest_l2.makeNormalize(mean: FacesStats.mean, std: FacesStats.std)])"
   ]
  },
  {
   "cell_type": "code",
   "execution_count": 27,
   "metadata": {},
   "outputs": [
    {
     "name": "stdout",
     "output_type": "stream",
     "text": [
      "Epoch 0: [1.0062835, 0.80625]                                               \n",
      "Epoch 1: [0.55796367, 0.80625]                                              \n",
      "Epoch 2: [0.2773656, 0.925]                                                 \n",
      "Epoch 3: [0.2810804, 0.925]                                                 \n",
      "Epoch 4: [0.23828597, 0.925]                                                \n",
      "Epoch 5: [0.26346081, 0.91875]                                              \n",
      "Epoch 6: [0.27271605, 0.9125]                                               \n",
      "Epoch 7: [0.28130114, 0.925]                                                \n",
      "Epoch 8: [0.28815252, 0.93125]                                              \n",
      "Epoch 9: [0.28950414, 0.9375]                                              \n",
      "Epoch 10: [0.2895252, 0.9375]                                              \n",
      "Epoch 11: [0.28923967, 0.9375]                                             \n",
      "Epoch 12: [0.28902355, 0.9375]                                              \n",
      "Epoch 13: [0.28936046, 0.9375]                                              \n",
      "Epoch 14: [0.289711, 0.9375]                                               \n",
      "Epoch 15: [0.2903994, 0.9375]                                              \n",
      "Epoch 16: [0.29111394, 0.9375]                                              \n",
      "Epoch 17: [0.29204816, 0.9375]                                              \n",
      "Epoch 18: [0.2925633, 0.9375]                                               \n",
      "Epoch 19: [0.2930684, 0.9375]                                               \n",
      "Epoch 20: [0.294185, 0.9375]                                                \n",
      "Epoch 21: [0.2947885, 0.9375]                                               \n",
      "Epoch 22: [0.29555187, 0.9375]                                              \n",
      "Epoch 23: [0.29619473, 0.9375]                                              \n",
      "Epoch 24: [0.2967756, 0.9375]                                               \n",
      "                                                                          \r"
     ]
    }
   ],
   "source": [
    "learner_nest_l2.fit(25)"
   ]
  },
  {
   "cell_type": "code",
   "execution_count": 28,
   "metadata": {},
   "outputs": [
    {
     "data": {
      "image/png": "[encoded data removed]",
      "text/plain": [
       "<Figure size 432x288 with 1 Axes>"
      ]
     },
     "metadata": {
      "needs_background": "light"
     },
     "output_type": "display_data"
    }
   ],
   "source": [
    "recorder_nest_l2.plotLosses()"
   ]
  },
  {
   "cell_type": "code",
   "execution_count": 30,
   "metadata": {},
   "outputs": [],
   "source": [
    "let y = Array(0..<recorder_nest_l2.losses.count)\n",
    "let sgd: Array<Float>     = recorder_sgd.losses.compactMap{$0.scalar}\n",
    "let nest: Array<Float>    = recorder_nest.losses.compactMap{$0.scalar}\n",
    "let nest_l1: Array<Float> = recorder_nest_l1.losses.compactMap{$0.scalar}\n",
    "let nest_l2: Array<Float> = recorder_nest_l2.losses.compactMap{$0.scalar}\n"
   ]
  },
  {
   "cell_type": "code",
   "execution_count": 177,
   "metadata": {},
   "outputs": [],
   "source": [
    "func smooth_curve(points:Array<Float>, factor:Float=0.99) -> Array<Float> {\n",
    "    var smoothed_points: Array<Float> = Array()\n",
    "    let x1 = points.first\n",
    "    smoothed_points.append(x1!)\n",
    "    var points_ = points.dropFirst()\n",
    "    for point in points_{\n",
    "            let previous = smoothed_points.last\n",
    "            let smth = previous! * factor + point * (1 - factor)\n",
    "            smoothed_points.append(smth)\n",
    "    }\n",
    "        \n",
    "    return smoothed_points\n",
    "}\n",
    "    "
   ]
  },
  {
   "cell_type": "code",
   "execution_count": 32,
   "metadata": {},
   "outputs": [
    {
     "data": {
      "image/png": "[encoded data removed]",
      "text/plain": [
       "<Figure size 1080x720 with 1 Axes>"
      ]
     },
     "metadata": {
      "needs_background": "light"
     },
     "output_type": "display_data"
    },
    {
     "data": {
      "text/plain": [
       "None\n"
      ]
     },
     "execution_count": 32,
     "metadata": {},
     "output_type": "execute_result"
    }
   ],
   "source": [
    "plt.figure(figsize: [15, 10])\n",
    "let i = 0\n",
    "let n = 150\n",
    "let y2 = Array(y[i..<n])\n",
    "plt.plot(y2,Array(sgd[i..<n]), label:\"SGD\")\n",
    "plt.plot(y2,Array(nest[i..<n]), label:\"SGD Nesterov, m=0.9\")\n",
    "plt.plot(y2,Array(nest_l1[i..<n]), label:\"SGD Nesterov, m=0.9, L1\")\n",
    "plt.plot(y2,Array(nest_l2[i..<n]), label:\"SGD Nesterov, m=0.9, L2\")\n",
    "plt.legend()\n",
    "plt.xlabel(\"Iterations\")\n",
    "plt.ylabel(\"Loss\")\n",
    "plt.title(\"MLP 2048-512 MNIST\")\n",
    "plt.show()"
   ]
  }
 ],
 "metadata": {
  "kernelspec": {
   "display_name": "Swift",
   "language": "swift",
   "name": "swift"
  },
  "language_info": {
   "file_extension": ".swift",
   "mimetype": "text/x-swift",
   "name": "swift",
   "version": ""
  }
 },
 "nbformat": 4,
 "nbformat_minor": 2
}
